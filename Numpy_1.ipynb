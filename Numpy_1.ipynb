{
  "nbformat": 4,
  "nbformat_minor": 0,
  "metadata": {
    "colab": {
      "provenance": [],
      "authorship_tag": "ABX9TyPP5JsPsGNLHV370XqtKrmT",
      "include_colab_link": true
    },
    "kernelspec": {
      "name": "python3",
      "display_name": "Python 3"
    },
    "language_info": {
      "name": "python"
    }
  },
  "cells": [
    {
      "cell_type": "markdown",
      "metadata": {
        "id": "view-in-github",
        "colab_type": "text"
      },
      "source": [
        "<a href=\"https://colab.research.google.com/github/Leegyu66/Numpy-master/blob/main/Numpy_1.ipynb\" target=\"_parent\"><img src=\"https://colab.research.google.com/assets/colab-badge.svg\" alt=\"Open In Colab\"/></a>"
      ]
    },
    {
      "cell_type": "code",
      "execution_count": 2,
      "metadata": {
        "colab": {
          "base_uri": "https://localhost:8080/",
          "height": 35
        },
        "id": "l8_OFdpmGwKh",
        "outputId": "2c4fa29b-f002-460e-cbe9-e4df8e657cc3"
      },
      "outputs": [
        {
          "output_type": "execute_result",
          "data": {
            "text/plain": [
              "'1.21.6'"
            ],
            "application/vnd.google.colaboratory.intrinsic+json": {
              "type": "string"
            }
          },
          "metadata": {},
          "execution_count": 2
        }
      ],
      "source": [
        "import numpy as np\n",
        "np.__version__"
      ]
    },
    {
      "cell_type": "markdown",
      "source": [
        "## 리스트로 배열 만들기"
      ],
      "metadata": {
        "id": "lYlJatTwHlnJ"
      }
    },
    {
      "cell_type": "code",
      "source": [
        "a1 = np.array([1, 2, 3, 4, 5]) # 1차원 배열 생성\n",
        "print(a1)\n",
        "print(type(a1))\n",
        "print(a1.shape)\n",
        "print(a1[0], a1[1], a1[2], a1[3], a1[4])\n",
        "a1[0] = 4\n",
        "a1[1] = 5\n",
        "a1[2] = 6\n",
        "print(a1)"
      ],
      "metadata": {
        "colab": {
          "base_uri": "https://localhost:8080/"
        },
        "id": "Kxjb7mNtHkck",
        "outputId": "798e8ba8-8609-4eb1-8445-69bc4504ed6b"
      },
      "execution_count": 3,
      "outputs": [
        {
          "output_type": "stream",
          "name": "stdout",
          "text": [
            "[1 2 3 4 5]\n",
            "<class 'numpy.ndarray'>\n",
            "(5,)\n",
            "1 2 3 4 5\n",
            "[4 5 6 4 5]\n"
          ]
        }
      ]
    },
    {
      "cell_type": "code",
      "source": [
        "a2 = np.array([ [1, 2, 3], [4, 5, 6], [7, 8, 9] ]) # 2차원 배열 생성\n",
        "print(a2)\n",
        "print(a2.shape)\n",
        "print(a2[0, 0], a2[1, 1], a2[2, 2])"
      ],
      "metadata": {
        "colab": {
          "base_uri": "https://localhost:8080/"
        },
        "id": "oOSjtZMAIN1w",
        "outputId": "09b06bae-5c66-4d1e-cb80-8f9cd5dc7a10"
      },
      "execution_count": 4,
      "outputs": [
        {
          "output_type": "stream",
          "name": "stdout",
          "text": [
            "[[1 2 3]\n",
            " [4 5 6]\n",
            " [7 8 9]]\n",
            "(3, 3)\n",
            "1 5 9\n"
          ]
        }
      ]
    },
    {
      "cell_type": "code",
      "source": [
        "a3 = np.array([[ [1, 2, 3], [4, 5, 6], [7, 8, 9] ], # 3차원 배열 생성성\n",
        "              [ [1, 2, 3], [4, 5, 6], [7, 8, 9] ],\n",
        "              [ [1, 2, 3], [4, 5, 6], [7, 8, 9 ]]])\n",
        "\n",
        "print(a3)\n",
        "print(a3.shape)"
      ],
      "metadata": {
        "colab": {
          "base_uri": "https://localhost:8080/"
        },
        "id": "NBFCie99H8WO",
        "outputId": "5f5f58f4-e3b4-4ada-949a-5733aacc1881"
      },
      "execution_count": 5,
      "outputs": [
        {
          "output_type": "stream",
          "name": "stdout",
          "text": [
            "[[[1 2 3]\n",
            "  [4 5 6]\n",
            "  [7 8 9]]\n",
            "\n",
            " [[1 2 3]\n",
            "  [4 5 6]\n",
            "  [7 8 9]]\n",
            "\n",
            " [[1 2 3]\n",
            "  [4 5 6]\n",
            "  [7 8 9]]]\n",
            "(3, 3, 3)\n"
          ]
        }
      ]
    },
    {
      "cell_type": "markdown",
      "source": [
        "## 배열 생성 및 초기화"
      ],
      "metadata": {
        "id": "91w0ui4OJhxk"
      }
    },
    {
      "cell_type": "markdown",
      "source": [
        "- zeros(): 모든 요소를 0으로 초기화"
      ],
      "metadata": {
        "id": "PKJXDg17Jj4e"
      }
    },
    {
      "cell_type": "code",
      "source": [
        "np.zeros(10)"
      ],
      "metadata": {
        "colab": {
          "base_uri": "https://localhost:8080/"
        },
        "id": "JwOkf6rkJmw4",
        "outputId": "1f0ef96a-1534-4c7f-9153-28e23b6bb238"
      },
      "execution_count": 6,
      "outputs": [
        {
          "output_type": "execute_result",
          "data": {
            "text/plain": [
              "array([0., 0., 0., 0., 0., 0., 0., 0., 0., 0.])"
            ]
          },
          "metadata": {},
          "execution_count": 6
        }
      ]
    },
    {
      "cell_type": "markdown",
      "source": [
        "- ones(): 모든 요소를 1로 초기화"
      ],
      "metadata": {
        "id": "lRq6QVSaJoxf"
      }
    },
    {
      "cell_type": "code",
      "source": [
        "np.ones(10)\n",
        "np.ones((3, 3)) # 2차원도 가능"
      ],
      "metadata": {
        "colab": {
          "base_uri": "https://localhost:8080/"
        },
        "id": "bafRgz1PJrtZ",
        "outputId": "2785cffc-704d-4f1b-fe0e-5fd51427fb50"
      },
      "execution_count": 7,
      "outputs": [
        {
          "output_type": "execute_result",
          "data": {
            "text/plain": [
              "array([[1., 1., 1.],\n",
              "       [1., 1., 1.],\n",
              "       [1., 1., 1.]])"
            ]
          },
          "metadata": {},
          "execution_count": 7
        }
      ]
    },
    {
      "cell_type": "markdown",
      "source": [
        "- full():모든 요소를 지정한 값으로 초기화"
      ],
      "metadata": {
        "id": "rkupDYsBJ827"
      }
    },
    {
      "cell_type": "code",
      "source": [
        "np.full((3, 3), 1.23)"
      ],
      "metadata": {
        "colab": {
          "base_uri": "https://localhost:8080/"
        },
        "id": "CTBNfFnLKBXl",
        "outputId": "b2ea24b6-d2eb-4c72-b4f8-aeeadf3eecda"
      },
      "execution_count": 8,
      "outputs": [
        {
          "output_type": "execute_result",
          "data": {
            "text/plain": [
              "array([[1.23, 1.23, 1.23],\n",
              "       [1.23, 1.23, 1.23],\n",
              "       [1.23, 1.23, 1.23]])"
            ]
          },
          "metadata": {},
          "execution_count": 8
        }
      ]
    },
    {
      "cell_type": "markdown",
      "source": [
        "- eye(): 단위행렬(identity matrix) 생성\n",
        "  - 주대각선의 원소가 모두 1이고 나머지 원소는 모두 0인 정사각 행렬"
      ],
      "metadata": {
        "id": "w-xv8Yu4KLBm"
      }
    },
    {
      "cell_type": "code",
      "source": [
        "np.eye(3)"
      ],
      "metadata": {
        "colab": {
          "base_uri": "https://localhost:8080/"
        },
        "id": "GaqgUA35KTp_",
        "outputId": "c923dd47-5a93-425e-e982-ab5242ca01df"
      },
      "execution_count": 9,
      "outputs": [
        {
          "output_type": "execute_result",
          "data": {
            "text/plain": [
              "array([[1., 0., 0.],\n",
              "       [0., 1., 0.],\n",
              "       [0., 0., 1.]])"
            ]
          },
          "metadata": {},
          "execution_count": 9
        }
      ]
    },
    {
      "cell_type": "markdown",
      "source": [
        "- tri(): 삼각행렬 생성"
      ],
      "metadata": {
        "id": "AZB0oSw5KY59"
      }
    },
    {
      "cell_type": "code",
      "source": [
        "np.tri(3)"
      ],
      "metadata": {
        "colab": {
          "base_uri": "https://localhost:8080/"
        },
        "id": "rpJIOmVeKbCy",
        "outputId": "17ec729c-f3e1-42cf-a41e-e6326887c3fa"
      },
      "execution_count": 10,
      "outputs": [
        {
          "output_type": "execute_result",
          "data": {
            "text/plain": [
              "array([[1., 0., 0.],\n",
              "       [1., 1., 0.],\n",
              "       [1., 1., 1.]])"
            ]
          },
          "metadata": {},
          "execution_count": 10
        }
      ]
    },
    {
      "cell_type": "markdown",
      "source": [
        "- empty(): 초기화되지 않은 배열 생성"
      ],
      "metadata": {
        "id": "_gZ7AFmlKeS-"
      }
    },
    {
      "cell_type": "code",
      "source": [
        "np.empty(10)"
      ],
      "metadata": {
        "colab": {
          "base_uri": "https://localhost:8080/"
        },
        "id": "7Xd_PJhSKh3r",
        "outputId": "ae8a7a9a-51b2-4e39-88c7-8d62934581ab"
      },
      "execution_count": 11,
      "outputs": [
        {
          "output_type": "execute_result",
          "data": {
            "text/plain": [
              "array([1., 1., 1., 1., 1., 1., 1., 1., 1., 1.])"
            ]
          },
          "metadata": {},
          "execution_count": 11
        }
      ]
    },
    {
      "cell_type": "markdown",
      "source": [
        "- _like(): 지정된 배열과 shape가 같은 행렬 생성"
      ],
      "metadata": {
        "id": "N0wWLOpcKwXS"
      }
    },
    {
      "cell_type": "code",
      "source": [
        "print(a1)\n",
        "np.zeros_like(a1) # a1의 shape과 같은 모양으로 0이 채워진 배열을 만들어달라"
      ],
      "metadata": {
        "colab": {
          "base_uri": "https://localhost:8080/"
        },
        "id": "4DOhqsoZKzd8",
        "outputId": "c4082263-f20a-4aea-ff0a-b1a118afaf44"
      },
      "execution_count": 12,
      "outputs": [
        {
          "output_type": "stream",
          "name": "stdout",
          "text": [
            "[4 5 6 4 5]\n"
          ]
        },
        {
          "output_type": "execute_result",
          "data": {
            "text/plain": [
              "array([0, 0, 0, 0, 0])"
            ]
          },
          "metadata": {},
          "execution_count": 12
        }
      ]
    },
    {
      "cell_type": "code",
      "source": [
        "print(a2)\n",
        "np.ones_like(a2)"
      ],
      "metadata": {
        "colab": {
          "base_uri": "https://localhost:8080/"
        },
        "id": "VYnJZ7ahKvZI",
        "outputId": "779f9963-974d-469f-d4ec-bd493574c1ce"
      },
      "execution_count": 13,
      "outputs": [
        {
          "output_type": "stream",
          "name": "stdout",
          "text": [
            "[[1 2 3]\n",
            " [4 5 6]\n",
            " [7 8 9]]\n"
          ]
        },
        {
          "output_type": "execute_result",
          "data": {
            "text/plain": [
              "array([[1, 1, 1],\n",
              "       [1, 1, 1],\n",
              "       [1, 1, 1]])"
            ]
          },
          "metadata": {},
          "execution_count": 13
        }
      ]
    },
    {
      "cell_type": "code",
      "source": [
        "print(a3)\n",
        "np.full_like(a3, 10)"
      ],
      "metadata": {
        "colab": {
          "base_uri": "https://localhost:8080/"
        },
        "id": "ypIrhZDsLEdk",
        "outputId": "4e9800fc-53d7-4654-ac93-8d3bfcbf92b0"
      },
      "execution_count": 14,
      "outputs": [
        {
          "output_type": "stream",
          "name": "stdout",
          "text": [
            "[[[1 2 3]\n",
            "  [4 5 6]\n",
            "  [7 8 9]]\n",
            "\n",
            " [[1 2 3]\n",
            "  [4 5 6]\n",
            "  [7 8 9]]\n",
            "\n",
            " [[1 2 3]\n",
            "  [4 5 6]\n",
            "  [7 8 9]]]\n"
          ]
        },
        {
          "output_type": "execute_result",
          "data": {
            "text/plain": [
              "array([[[10, 10, 10],\n",
              "        [10, 10, 10],\n",
              "        [10, 10, 10]],\n",
              "\n",
              "       [[10, 10, 10],\n",
              "        [10, 10, 10],\n",
              "        [10, 10, 10]],\n",
              "\n",
              "       [[10, 10, 10],\n",
              "        [10, 10, 10],\n",
              "        [10, 10, 10]]])"
            ]
          },
          "metadata": {},
          "execution_count": 14
        }
      ]
    },
    {
      "cell_type": "markdown",
      "source": [
        "## 생성한 값으로 배열 생성성"
      ],
      "metadata": {
        "id": "mkw7vXRZLKBs"
      }
    },
    {
      "cell_type": "markdown",
      "source": [
        "- arange(): 정수 범위로 배열 생성"
      ],
      "metadata": {
        "id": "cxHkv8UqLOe2"
      }
    },
    {
      "cell_type": "code",
      "source": [
        "np.arange(0, 30, 2)"
      ],
      "metadata": {
        "colab": {
          "base_uri": "https://localhost:8080/"
        },
        "id": "DTY_c4YsLQtp",
        "outputId": "c3916b27-7bb4-4bc0-9b62-aeab611055f0"
      },
      "execution_count": 15,
      "outputs": [
        {
          "output_type": "execute_result",
          "data": {
            "text/plain": [
              "array([ 0,  2,  4,  6,  8, 10, 12, 14, 16, 18, 20, 22, 24, 26, 28])"
            ]
          },
          "metadata": {},
          "execution_count": 15
        }
      ]
    },
    {
      "cell_type": "markdown",
      "source": [
        "- linspace(): 범위 내에서 균등 간격의 배열 생성"
      ],
      "metadata": {
        "id": "fJubk2HGLWUA"
      }
    },
    {
      "cell_type": "code",
      "source": [
        "np.linspace(0, 1, 5) # 0부터 1까지 균등한 간격으로 5개의 원소를 가진 배열을 생성해달라라"
      ],
      "metadata": {
        "colab": {
          "base_uri": "https://localhost:8080/"
        },
        "id": "iBNyl55GLbAj",
        "outputId": "3afb1367-3861-4076-9abd-5e61b4346149"
      },
      "execution_count": 16,
      "outputs": [
        {
          "output_type": "execute_result",
          "data": {
            "text/plain": [
              "array([0.  , 0.25, 0.5 , 0.75, 1.  ])"
            ]
          },
          "metadata": {},
          "execution_count": 16
        }
      ]
    },
    {
      "cell_type": "markdown",
      "source": [
        "- longspace(): 범위 내에서 균등간격으로 로그 스케일로 배열 생성"
      ],
      "metadata": {
        "id": "BQCFM4rsLzRy"
      }
    },
    {
      "cell_type": "code",
      "source": [
        "np.logspace(0.1, 1, 20)"
      ],
      "metadata": {
        "colab": {
          "base_uri": "https://localhost:8080/"
        },
        "id": "B1KIiiyhLyZZ",
        "outputId": "adfb1554-94d9-4f15-f8e3-c0a8e75ee4af"
      },
      "execution_count": 17,
      "outputs": [
        {
          "output_type": "execute_result",
          "data": {
            "text/plain": [
              "array([ 1.25892541,  1.40400425,  1.565802  ,  1.74624535,  1.94748304,\n",
              "        2.1719114 ,  2.42220294,  2.70133812,  3.0126409 ,  3.35981829,\n",
              "        3.74700446,  4.17881006,  4.66037703,  5.19743987,  5.79639395,\n",
              "        6.46437163,  7.2093272 ,  8.04013161,  8.9666781 , 10.        ])"
            ]
          },
          "metadata": {},
          "execution_count": 17
        }
      ]
    },
    {
      "cell_type": "markdown",
      "source": [
        "## 랜덤값으로 배열 생성"
      ],
      "metadata": {
        "id": "xoAv3ffKL9Wi"
      }
    },
    {
      "cell_type": "markdown",
      "source": [
        "- random.random(): 랜덤한 수의 배열 생성"
      ],
      "metadata": {
        "id": "VsJdDvaWMAUz"
      }
    },
    {
      "cell_type": "code",
      "source": [
        "np.random.random((3, 3))"
      ],
      "metadata": {
        "colab": {
          "base_uri": "https://localhost:8080/"
        },
        "id": "kcEfTayBL6uY",
        "outputId": "5e2ba837-4d4b-427c-83c6-b72cf0e140d0"
      },
      "execution_count": 18,
      "outputs": [
        {
          "output_type": "execute_result",
          "data": {
            "text/plain": [
              "array([[0.27047775, 0.61341892, 0.82355732],\n",
              "       [0.90112178, 0.78329465, 0.23060339],\n",
              "       [0.37078472, 0.06738209, 0.44799529]])"
            ]
          },
          "metadata": {},
          "execution_count": 18
        }
      ]
    },
    {
      "cell_type": "markdown",
      "source": [
        "- random.randint(): 일정 구간의 랜덤 정수의 배열 생성"
      ],
      "metadata": {
        "id": "kddmLwcaMM9W"
      }
    },
    {
      "cell_type": "code",
      "source": [
        "np.random.randint(0, 10, (3, 3))"
      ],
      "metadata": {
        "colab": {
          "base_uri": "https://localhost:8080/"
        },
        "id": "SzxBxTvXML31",
        "outputId": "07d40305-0b6e-40dc-defa-b25a14925d59"
      },
      "execution_count": 19,
      "outputs": [
        {
          "output_type": "execute_result",
          "data": {
            "text/plain": [
              "array([[6, 5, 4],\n",
              "       [7, 2, 4],\n",
              "       [8, 6, 9]])"
            ]
          },
          "metadata": {},
          "execution_count": 19
        }
      ]
    },
    {
      "cell_type": "markdown",
      "source": [
        "- random.normal(): 정규분포를 고려한 랜덤한 수의 배열 생성"
      ],
      "metadata": {
        "id": "SzD36bikMVGc"
      }
    },
    {
      "cell_type": "code",
      "source": [
        "np.random.normal(0, 1, size=(3, 3))"
      ],
      "metadata": {
        "colab": {
          "base_uri": "https://localhost:8080/"
        },
        "id": "DSkSZ52vL62X",
        "outputId": "ff2b9bcd-d86f-4d8b-a7b9-688bf8c8ac77"
      },
      "execution_count": 20,
      "outputs": [
        {
          "output_type": "execute_result",
          "data": {
            "text/plain": [
              "array([[ 1.42558306,  0.66597032, -0.143239  ],\n",
              "       [ 1.32759861,  0.68053314,  0.46354518],\n",
              "       [ 1.14595854, -1.50160881, -0.78520489]])"
            ]
          },
          "metadata": {},
          "execution_count": 20
        }
      ]
    },
    {
      "cell_type": "markdown",
      "source": [
        "random.rand(): 균등분포를 고려한 랜덤한 수의 배열 생성"
      ],
      "metadata": {
        "id": "VzNRGLlrMkHx"
      }
    },
    {
      "cell_type": "code",
      "source": [
        "np.random.rand(3, 3)\n"
      ],
      "metadata": {
        "colab": {
          "base_uri": "https://localhost:8080/"
        },
        "id": "JAs1EPtRM6-C",
        "outputId": "732ac2ff-d098-473a-b7f9-ff49b998e499"
      },
      "execution_count": 21,
      "outputs": [
        {
          "output_type": "execute_result",
          "data": {
            "text/plain": [
              "array([[0.34719052, 0.00853223, 0.76205565],\n",
              "       [0.71587478, 0.50988533, 0.67541758],\n",
              "       [0.52753312, 0.13578166, 0.10420135]])"
            ]
          },
          "metadata": {},
          "execution_count": 21
        }
      ]
    },
    {
      "cell_type": "markdown",
      "source": [
        "- random.randn(): 표준 정규 분포를 고려한 랜덤한 수의 배열 생성"
      ],
      "metadata": {
        "id": "L1KDrx7UM-12"
      }
    },
    {
      "cell_type": "code",
      "source": [
        "np.random.randn(3, 3)"
      ],
      "metadata": {
        "colab": {
          "base_uri": "https://localhost:8080/"
        },
        "id": "yielhO3FNDns",
        "outputId": "28ffd4ee-4471-419e-e612-c560849488d0"
      },
      "execution_count": 22,
      "outputs": [
        {
          "output_type": "execute_result",
          "data": {
            "text/plain": [
              "array([[ 0.01846199,  0.20417086,  0.11149089],\n",
              "       [ 1.08251584, -0.99345567,  0.78679452],\n",
              "       [-0.10709013, -0.59145925, -1.18797258]])"
            ]
          },
          "metadata": {},
          "execution_count": 22
        }
      ]
    },
    {
      "cell_type": "markdown",
      "source": [
        "## 표준 데이터 타입"
      ],
      "metadata": {
        "id": "iEUdd59ONGoF"
      }
    },
    {
      "cell_type": "code",
      "source": [
        "np.zeros(20, dtype=int)"
      ],
      "metadata": {
        "colab": {
          "base_uri": "https://localhost:8080/"
        },
        "id": "4NO1QYxTNJxx",
        "outputId": "ab2b818e-4f37-472a-ae10-28f4a954c6c8"
      },
      "execution_count": 23,
      "outputs": [
        {
          "output_type": "execute_result",
          "data": {
            "text/plain": [
              "array([0, 0, 0, 0, 0, 0, 0, 0, 0, 0, 0, 0, 0, 0, 0, 0, 0, 0, 0, 0])"
            ]
          },
          "metadata": {},
          "execution_count": 23
        }
      ]
    },
    {
      "cell_type": "code",
      "source": [
        "np.ones((3, 3), dtype=bool)"
      ],
      "metadata": {
        "colab": {
          "base_uri": "https://localhost:8080/"
        },
        "id": "1ieV35j6Neea",
        "outputId": "cd5e3bf3-fe91-41f1-fca5-512f2998ea0d"
      },
      "execution_count": 24,
      "outputs": [
        {
          "output_type": "execute_result",
          "data": {
            "text/plain": [
              "array([[ True,  True,  True],\n",
              "       [ True,  True,  True],\n",
              "       [ True,  True,  True]])"
            ]
          },
          "metadata": {},
          "execution_count": 24
        }
      ]
    },
    {
      "cell_type": "code",
      "source": [
        "np.full((3, 3), 1.0, dtype=float)"
      ],
      "metadata": {
        "colab": {
          "base_uri": "https://localhost:8080/"
        },
        "id": "CV-tj7JSNldJ",
        "outputId": "402110c6-3c82-4cb3-e45c-e0565e4e8cc9"
      },
      "execution_count": 25,
      "outputs": [
        {
          "output_type": "execute_result",
          "data": {
            "text/plain": [
              "array([[1., 1., 1.],\n",
              "       [1., 1., 1.],\n",
              "       [1., 1., 1.]])"
            ]
          },
          "metadata": {},
          "execution_count": 25
        }
      ]
    },
    {
      "cell_type": "markdown",
      "source": [
        "## 날짜/시간 배열 생성"
      ],
      "metadata": {
        "id": "ZPvz8ThcNdHz"
      }
    },
    {
      "cell_type": "code",
      "source": [
        "date = np.array('2020-01-01', dtype=np.datetime64)\n",
        "date"
      ],
      "metadata": {
        "colab": {
          "base_uri": "https://localhost:8080/"
        },
        "id": "HvqryxRbNs_C",
        "outputId": "3de3bae8-c1aa-48a1-bbe8-ad7770113eb2"
      },
      "execution_count": 26,
      "outputs": [
        {
          "output_type": "execute_result",
          "data": {
            "text/plain": [
              "array('2020-01-01', dtype='datetime64[D]')"
            ]
          },
          "metadata": {},
          "execution_count": 26
        }
      ]
    },
    {
      "cell_type": "code",
      "source": [
        "date + np.arange(12)"
      ],
      "metadata": {
        "colab": {
          "base_uri": "https://localhost:8080/"
        },
        "id": "8qSnsk3wOIMk",
        "outputId": "ec290c93-3980-4346-cf56-3130e58a70e2"
      },
      "execution_count": 27,
      "outputs": [
        {
          "output_type": "execute_result",
          "data": {
            "text/plain": [
              "array(['2020-01-01', '2020-01-02', '2020-01-03', '2020-01-04',\n",
              "       '2020-01-05', '2020-01-06', '2020-01-07', '2020-01-08',\n",
              "       '2020-01-09', '2020-01-10', '2020-01-11', '2020-01-12'],\n",
              "      dtype='datetime64[D]')"
            ]
          },
          "metadata": {},
          "execution_count": 27
        }
      ]
    },
    {
      "cell_type": "code",
      "source": [
        "datetime = np.datetime64('2020-06-01 12:00')\n",
        "datetime"
      ],
      "metadata": {
        "colab": {
          "base_uri": "https://localhost:8080/"
        },
        "id": "sN9VVitsOUv5",
        "outputId": "0caac59e-f145-4bdd-c3a4-8312e214f91b"
      },
      "execution_count": 28,
      "outputs": [
        {
          "output_type": "execute_result",
          "data": {
            "text/plain": [
              "numpy.datetime64('2020-06-01T12:00')"
            ]
          },
          "metadata": {},
          "execution_count": 28
        }
      ]
    },
    {
      "cell_type": "code",
      "source": [
        "datetime = np.datetime64('2020-06-01 12:00:12.34', 'ns')\n",
        "datetime"
      ],
      "metadata": {
        "colab": {
          "base_uri": "https://localhost:8080/"
        },
        "id": "r0zM3GCmOiYg",
        "outputId": "6c6388b8-5adc-4cf2-a0be-e70f8fd49e16"
      },
      "execution_count": 29,
      "outputs": [
        {
          "output_type": "execute_result",
          "data": {
            "text/plain": [
              "numpy.datetime64('2020-06-01T12:00:12.340000000')"
            ]
          },
          "metadata": {},
          "execution_count": 29
        }
      ]
    },
    {
      "cell_type": "markdown",
      "source": [
        "## 배열 조회"
      ],
      "metadata": {
        "id": "q7avGrWeOtto"
      }
    },
    {
      "cell_type": "markdown",
      "source": [
        "## 배열 속성 정보"
      ],
      "metadata": {
        "id": "P6NBL0vFOvyT"
      }
    },
    {
      "cell_type": "code",
      "source": [
        "def array_info(array):\n",
        "  print(array)\n",
        "  print('ndim:', array.ndim)\n",
        "  print(\"shape:\", array.shape)\n",
        "  print(\"dtype:\", array.dtype)\n",
        "  print('size:', array.size)\n",
        "  print('itemsize:', array.itemsize)\n",
        "  print('nbytes:', array.nbytes)\n",
        "  print('strides:', array.strides)"
      ],
      "metadata": {
        "id": "WRVpi8rlOsTZ"
      },
      "execution_count": 30,
      "outputs": []
    },
    {
      "cell_type": "code",
      "source": [
        "array_info(a1)"
      ],
      "metadata": {
        "colab": {
          "base_uri": "https://localhost:8080/"
        },
        "id": "2fciQZwbPQBc",
        "outputId": "3474feb7-7a8e-4418-b786-49d050b1d8b0"
      },
      "execution_count": 31,
      "outputs": [
        {
          "output_type": "stream",
          "name": "stdout",
          "text": [
            "[4 5 6 4 5]\n",
            "ndim: 1\n",
            "shape: (5,)\n",
            "dtype: int64\n",
            "size: 5\n",
            "itemsize: 8\n",
            "nbytes: 40\n",
            "strides: (8,)\n"
          ]
        }
      ]
    },
    {
      "cell_type": "code",
      "source": [
        "array_info(a2)"
      ],
      "metadata": {
        "colab": {
          "base_uri": "https://localhost:8080/"
        },
        "id": "mZGyoy1iPu8n",
        "outputId": "b22334c2-c841-4f77-e460-7f23a9faf9ac"
      },
      "execution_count": 32,
      "outputs": [
        {
          "output_type": "stream",
          "name": "stdout",
          "text": [
            "[[1 2 3]\n",
            " [4 5 6]\n",
            " [7 8 9]]\n",
            "ndim: 2\n",
            "shape: (3, 3)\n",
            "dtype: int64\n",
            "size: 9\n",
            "itemsize: 8\n",
            "nbytes: 72\n",
            "strides: (24, 8)\n"
          ]
        }
      ]
    },
    {
      "cell_type": "code",
      "source": [
        "array_info(a3) # 한 차원을 넘어갈 때 필요한 크기(strides)"
      ],
      "metadata": {
        "colab": {
          "base_uri": "https://localhost:8080/"
        },
        "id": "e4I7b2Q_PwTE",
        "outputId": "5b11c2f7-f119-4433-b7c1-50cf72b68944"
      },
      "execution_count": 33,
      "outputs": [
        {
          "output_type": "stream",
          "name": "stdout",
          "text": [
            "[[[1 2 3]\n",
            "  [4 5 6]\n",
            "  [7 8 9]]\n",
            "\n",
            " [[1 2 3]\n",
            "  [4 5 6]\n",
            "  [7 8 9]]\n",
            "\n",
            " [[1 2 3]\n",
            "  [4 5 6]\n",
            "  [7 8 9]]]\n",
            "ndim: 3\n",
            "shape: (3, 3, 3)\n",
            "dtype: int64\n",
            "size: 27\n",
            "itemsize: 8\n",
            "nbytes: 216\n",
            "strides: (72, 24, 8)\n"
          ]
        }
      ]
    },
    {
      "cell_type": "markdown",
      "source": [
        "## 인덱싱"
      ],
      "metadata": {
        "id": "ESJkGfErQUhc"
      }
    },
    {
      "cell_type": "code",
      "source": [
        "print(a1)\n",
        "print(a1[0])\n",
        "print(a1[2])\n",
        "print(a1[-1])\n",
        "print(a1[-2])"
      ],
      "metadata": {
        "colab": {
          "base_uri": "https://localhost:8080/"
        },
        "id": "eqDLF_xrQVh5",
        "outputId": "17e4d549-4c9c-422a-988f-fefa3c3371ef"
      },
      "execution_count": 34,
      "outputs": [
        {
          "output_type": "stream",
          "name": "stdout",
          "text": [
            "[4 5 6 4 5]\n",
            "4\n",
            "6\n",
            "5\n",
            "4\n"
          ]
        }
      ]
    },
    {
      "cell_type": "code",
      "source": [
        "print(a2)\n",
        "print(a2[0, 0])\n",
        "print(a2[0, 2])\n",
        "print(a2[1, 1])\n",
        "print(a2[2, -1])"
      ],
      "metadata": {
        "colab": {
          "base_uri": "https://localhost:8080/"
        },
        "id": "VgQB2-iKQcKQ",
        "outputId": "aa81ca6a-2e35-444d-e0cd-f99061c54fe4"
      },
      "execution_count": 35,
      "outputs": [
        {
          "output_type": "stream",
          "name": "stdout",
          "text": [
            "[[1 2 3]\n",
            " [4 5 6]\n",
            " [7 8 9]]\n",
            "1\n",
            "3\n",
            "5\n",
            "9\n"
          ]
        }
      ]
    },
    {
      "cell_type": "code",
      "source": [
        "print(a3)\n",
        "print(a3[0, 0, 0])\n",
        "print(a3[1, 1, 1])\n",
        "print(a3[2, 2, 2])\n",
        "print(a3[2, -1, -1])"
      ],
      "metadata": {
        "colab": {
          "base_uri": "https://localhost:8080/"
        },
        "id": "iU-7Kk5nQWho",
        "outputId": "bec34012-ca00-4752-9f83-b3d60c7d0868"
      },
      "execution_count": 36,
      "outputs": [
        {
          "output_type": "stream",
          "name": "stdout",
          "text": [
            "[[[1 2 3]\n",
            "  [4 5 6]\n",
            "  [7 8 9]]\n",
            "\n",
            " [[1 2 3]\n",
            "  [4 5 6]\n",
            "  [7 8 9]]\n",
            "\n",
            " [[1 2 3]\n",
            "  [4 5 6]\n",
            "  [7 8 9]]]\n",
            "1\n",
            "5\n",
            "9\n",
            "9\n"
          ]
        }
      ]
    },
    {
      "cell_type": "markdown",
      "source": [
        "## 슬라이싱"
      ],
      "metadata": {
        "id": "Htavm1S1Q9QH"
      }
    },
    {
      "cell_type": "markdown",
      "source": [
        "- 슬라이싱 구문: a[start:stop:step]\n",
        "- 기본값: start=0, stop=ndim, step=1"
      ],
      "metadata": {
        "id": "PV_VLob_Q_xc"
      }
    },
    {
      "cell_type": "code",
      "source": [
        "print(a1)\n",
        "print(a1[0:2])\n",
        "print(a1[0:])\n",
        "print(a1[:1])\n",
        "print(a1[::2])\n",
        "print(a1[::-1])"
      ],
      "metadata": {
        "colab": {
          "base_uri": "https://localhost:8080/"
        },
        "id": "pHPugQcIQ8jE",
        "outputId": "4804116b-201c-4f4d-ab0c-0177a5a37e34"
      },
      "execution_count": 37,
      "outputs": [
        {
          "output_type": "stream",
          "name": "stdout",
          "text": [
            "[4 5 6 4 5]\n",
            "[4 5]\n",
            "[4 5 6 4 5]\n",
            "[4]\n",
            "[4 6 5]\n",
            "[5 4 6 5 4]\n"
          ]
        }
      ]
    },
    {
      "cell_type": "code",
      "source": [
        "print(a2)\n",
        "print(a2[1])\n",
        "print(a2[1, :])\n",
        "print(a2[:2, :2])\n",
        "print(a2[1:, ::-1]) # 1부터 끝까지([4 5 6][7 8 9])의 전체를 -1스텝으로 출력\n",
        "print(a2[::-1, ::-1])"
      ],
      "metadata": {
        "colab": {
          "base_uri": "https://localhost:8080/"
        },
        "id": "u86TbwaGQC5O",
        "outputId": "ae7c8a61-be15-43ee-ff53-e55279a7d7bf"
      },
      "execution_count": 38,
      "outputs": [
        {
          "output_type": "stream",
          "name": "stdout",
          "text": [
            "[[1 2 3]\n",
            " [4 5 6]\n",
            " [7 8 9]]\n",
            "[4 5 6]\n",
            "[4 5 6]\n",
            "[[1 2]\n",
            " [4 5]]\n",
            "[[6 5 4]\n",
            " [9 8 7]]\n",
            "[[9 8 7]\n",
            " [6 5 4]\n",
            " [3 2 1]]\n"
          ]
        }
      ]
    },
    {
      "cell_type": "markdown",
      "source": [
        "## 불리언 인덱싱\n",
        "- 배열 각 요소의 선택 여부를 불리언으로 지정\n",
        "- True 값인 인덱스의 값만 조회"
      ],
      "metadata": {
        "id": "Svo6GgtmSubr"
      }
    },
    {
      "cell_type": "code",
      "source": [
        "print(a1)\n",
        "bi = [False, True, True, False, True]\n",
        "print(a1[bi]) # True의 위치인 값만 출력\n",
        "bi = [True, False, True, True, False]\n",
        "print(a1[bi])"
      ],
      "metadata": {
        "colab": {
          "base_uri": "https://localhost:8080/"
        },
        "id": "xDRf85dqS1KT",
        "outputId": "f9182911-cd5d-4002-e636-9810ff7d496e"
      },
      "execution_count": 39,
      "outputs": [
        {
          "output_type": "stream",
          "name": "stdout",
          "text": [
            "[4 5 6 4 5]\n",
            "[5 6 5]\n",
            "[4 6 4]\n"
          ]
        }
      ]
    },
    {
      "cell_type": "code",
      "source": [
        "print(a2)\n",
        "bi = np.random.randint(0, 2, (3, 3), dtype=bool)\n",
        "print(bi)\n",
        "print(a2[bi])"
      ],
      "metadata": {
        "colab": {
          "base_uri": "https://localhost:8080/"
        },
        "id": "IzTJY5GNTByb",
        "outputId": "9046f753-4b37-43d0-e3d8-21af15bdf644"
      },
      "execution_count": 40,
      "outputs": [
        {
          "output_type": "stream",
          "name": "stdout",
          "text": [
            "[[1 2 3]\n",
            " [4 5 6]\n",
            " [7 8 9]]\n",
            "[[ True  True  True]\n",
            " [False  True False]\n",
            " [ True  True  True]]\n",
            "[1 2 3 5 7 8 9]\n"
          ]
        }
      ]
    },
    {
      "cell_type": "markdown",
      "source": [
        "## 팬시 인덱싱"
      ],
      "metadata": {
        "id": "Acp8d0UUTY8_"
      }
    },
    {
      "cell_type": "code",
      "source": [
        "print(a1)\n",
        "print([a1[0], a1[2]])\n",
        "ind = [0, 2]\n",
        "print(a1[ind])\n",
        "ind = np.array([[0, 1],\n",
        "                [2, 0]])\n",
        "print(a1[ind])"
      ],
      "metadata": {
        "colab": {
          "base_uri": "https://localhost:8080/"
        },
        "id": "LAsp4FOzTaIX",
        "outputId": "14828cfb-9a25-4824-de61-a5638bc4a445"
      },
      "execution_count": 41,
      "outputs": [
        {
          "output_type": "stream",
          "name": "stdout",
          "text": [
            "[4 5 6 4 5]\n",
            "[4, 6]\n",
            "[4 6]\n",
            "[[4 5]\n",
            " [6 4]]\n"
          ]
        }
      ]
    },
    {
      "cell_type": "code",
      "source": [
        "print(a2)\n",
        "row = np.array([0, 2])\n",
        "col = np.array([1, 2])\n",
        "print(a2[row, col])\n",
        "print(a2[row, :])\n",
        "print(a2[:, col])\n",
        "print(a2[row, 1])\n",
        "print(a2[2, col])\n",
        "print(a2[row, 1:])\n",
        "print(a2[1:, col])"
      ],
      "metadata": {
        "colab": {
          "base_uri": "https://localhost:8080/"
        },
        "id": "bZYXgR2ZT5S_",
        "outputId": "53a2d765-e005-44ac-f5a0-ba6099a181f2"
      },
      "execution_count": 42,
      "outputs": [
        {
          "output_type": "stream",
          "name": "stdout",
          "text": [
            "[[1 2 3]\n",
            " [4 5 6]\n",
            " [7 8 9]]\n",
            "[2 9]\n",
            "[[1 2 3]\n",
            " [7 8 9]]\n",
            "[[2 3]\n",
            " [5 6]\n",
            " [8 9]]\n",
            "[2 8]\n",
            "[8 9]\n",
            "[[2 3]\n",
            " [8 9]]\n",
            "[[5 6]\n",
            " [8 9]]\n"
          ]
        }
      ]
    },
    {
      "cell_type": "markdown",
      "source": [
        "## 배열 값 삽입"
      ],
      "metadata": {
        "id": "Jq6XNH3dUr5U"
      }
    },
    {
      "cell_type": "markdown",
      "source": [
        "- insert(): 배열의 특정 위치에 값 삽입\n",
        "- axis를 지정하지 않으면 1차원 배열로 변환\n",
        "- 추가할 방향을 axis로 지정\n",
        "- 원본 배열 변경없이 새로운 배열 반환"
      ],
      "metadata": {
        "id": "0YVAEZkXU6Ro"
      }
    },
    {
      "cell_type": "code",
      "source": [
        "print(a1)\n",
        "b1 = np.insert(a1, 0, 10) # a1 0번째 위치에 10삽입 휘발성?\n",
        "print(b1)\n",
        "print(a1)\n",
        "c1 = np.insert(a1, 2, 10)\n",
        "print(c1)"
      ],
      "metadata": {
        "colab": {
          "base_uri": "https://localhost:8080/"
        },
        "id": "qP-6AA2EU7us",
        "outputId": "9d1f2be3-1aef-44f6-ce2e-51b3c5ff4946"
      },
      "execution_count": 43,
      "outputs": [
        {
          "output_type": "stream",
          "name": "stdout",
          "text": [
            "[4 5 6 4 5]\n",
            "[10  4  5  6  4  5]\n",
            "[4 5 6 4 5]\n",
            "[ 4  5 10  6  4  5]\n"
          ]
        }
      ]
    },
    {
      "cell_type": "code",
      "source": [
        "print(a2)\n",
        "b2 = np.insert(a2, 1, 10, axis=0) # axis로 축을 지정 axis가 0이면 행 1이면 열\n",
        "print(b2)\n",
        "c2 = np.insert(a2, 1, 10, axis=1)\n",
        "print(c2)"
      ],
      "metadata": {
        "colab": {
          "base_uri": "https://localhost:8080/"
        },
        "id": "vR2vJUPLVQ9q",
        "outputId": "664a98c8-89c6-44b7-c871-66b897e7ce74"
      },
      "execution_count": 44,
      "outputs": [
        {
          "output_type": "stream",
          "name": "stdout",
          "text": [
            "[[1 2 3]\n",
            " [4 5 6]\n",
            " [7 8 9]]\n",
            "[[ 1  2  3]\n",
            " [10 10 10]\n",
            " [ 4  5  6]\n",
            " [ 7  8  9]]\n",
            "[[ 1 10  2  3]\n",
            " [ 4 10  5  6]\n",
            " [ 7 10  8  9]]\n"
          ]
        }
      ]
    },
    {
      "cell_type": "markdown",
      "source": [
        "## 배열 값 수정\n",
        "  - 인덱싱"
      ],
      "metadata": {
        "id": "xMjcSr_CeaWB"
      }
    },
    {
      "cell_type": "code",
      "source": [
        "print(a1)\n",
        "a1[0] = 1\n",
        "a1[1] = 2\n",
        "a1[2] = 3\n",
        "print(a1)\n",
        "a1[:1] = 9\n",
        "print(a1)\n",
        "i = np.array([1, 3, 4])\n",
        "a1[i] = 0\n",
        "print(a1)\n",
        "a1[i] += 4\n",
        "print(a1)"
      ],
      "metadata": {
        "colab": {
          "base_uri": "https://localhost:8080/"
        },
        "id": "HivS_a1Gee4Z",
        "outputId": "71f66e06-ca0a-42df-d34d-5ea039c041fa"
      },
      "execution_count": 45,
      "outputs": [
        {
          "output_type": "stream",
          "name": "stdout",
          "text": [
            "[4 5 6 4 5]\n",
            "[1 2 3 4 5]\n",
            "[9 2 3 4 5]\n",
            "[9 0 3 0 0]\n",
            "[9 4 3 4 4]\n"
          ]
        }
      ]
    },
    {
      "cell_type": "code",
      "source": [
        "print(a2)\n",
        "a2[0, 0] = 1\n",
        "a2[1, 1] = 2\n",
        "a2[2, 2] = 3\n",
        "a2[0] = 1\n",
        "print(a2)\n",
        "a2[1:, 2] = 9\n",
        "print(a2)\n",
        "row = np.array([0, 1])\n",
        "col = np.array([1, 2])\n",
        "a2[row, col] = 0\n",
        "print(a2)"
      ],
      "metadata": {
        "colab": {
          "base_uri": "https://localhost:8080/"
        },
        "id": "9HcE9i5nenig",
        "outputId": "0a9185a7-8784-48d3-d0fc-ed6dd407d017"
      },
      "execution_count": 46,
      "outputs": [
        {
          "output_type": "stream",
          "name": "stdout",
          "text": [
            "[[1 2 3]\n",
            " [4 5 6]\n",
            " [7 8 9]]\n",
            "[[1 1 1]\n",
            " [4 2 6]\n",
            " [7 8 3]]\n",
            "[[1 1 1]\n",
            " [4 2 9]\n",
            " [7 8 9]]\n",
            "[[1 0 1]\n",
            " [4 2 0]\n",
            " [7 8 9]]\n"
          ]
        }
      ]
    },
    {
      "cell_type": "markdown",
      "source": [
        "## 배열 값 삭제\n",
        "- delete(): 배열의 특정 위치에 값 삭제\n",
        "- axis를 지정하지 않으면 1차원 배열로 변환\n",
        "- 삭제할 방향을 axis로 지정\n",
        "- 원본 배열 변경없이 새로운 배열 반환"
      ],
      "metadata": {
        "id": "Q-Q07U9IfZjg"
      }
    },
    {
      "cell_type": "code",
      "source": [
        "print(a1)\n",
        "b1 = np.delete(a1, 1)\n",
        "print(b1)\n",
        "print(a1)"
      ],
      "metadata": {
        "colab": {
          "base_uri": "https://localhost:8080/"
        },
        "id": "9AfwwgbMflFA",
        "outputId": "7650cc91-7137-46f5-b150-6a0b605e239c"
      },
      "execution_count": 47,
      "outputs": [
        {
          "output_type": "stream",
          "name": "stdout",
          "text": [
            "[9 4 3 4 4]\n",
            "[9 3 4 4]\n",
            "[9 4 3 4 4]\n"
          ]
        }
      ]
    },
    {
      "cell_type": "code",
      "source": [
        "print(a2)\n",
        "b2 = np.delete(a2, 1, axis=0)\n",
        "print(b2)\n",
        "c2 = np.delete(a2, 1, axis=1)\n",
        "print(c2)"
      ],
      "metadata": {
        "colab": {
          "base_uri": "https://localhost:8080/"
        },
        "id": "SyAXBnHJfuzn",
        "outputId": "4d278191-eefe-4058-930a-bf831c81d7df"
      },
      "execution_count": 48,
      "outputs": [
        {
          "output_type": "stream",
          "name": "stdout",
          "text": [
            "[[1 0 1]\n",
            " [4 2 0]\n",
            " [7 8 9]]\n",
            "[[1 0 1]\n",
            " [7 8 9]]\n",
            "[[1 1]\n",
            " [4 0]\n",
            " [7 9]]\n"
          ]
        }
      ]
    },
    {
      "cell_type": "markdown",
      "source": [
        "## 배열 복사\n",
        "   - 리스트 자료형과 달리 배열의 슬라이스는 복사본이 아님"
      ],
      "metadata": {
        "id": "ij8FdJKtf8Kz"
      }
    },
    {
      "cell_type": "code",
      "source": [
        "print(a2)\n",
        "print(a2[:2, :2])\n",
        "a2_sub = a2[:2, :2] # 슬라이싱을 원본배열을 카피하여서 주는것이 아닌 메모리를 그대로 쓰는것임\n",
        "print(a2_sub)\n",
        "a2_sub[:, 1] = 0\n",
        "print(a2_sub)\n",
        "print(a2)"
      ],
      "metadata": {
        "colab": {
          "base_uri": "https://localhost:8080/"
        },
        "id": "yw81bXtTgAcH",
        "outputId": "ffac2a90-a9ee-49bd-a4b5-13261f7da255"
      },
      "execution_count": 49,
      "outputs": [
        {
          "output_type": "stream",
          "name": "stdout",
          "text": [
            "[[1 0 1]\n",
            " [4 2 0]\n",
            " [7 8 9]]\n",
            "[[1 0]\n",
            " [4 2]]\n",
            "[[1 0]\n",
            " [4 2]]\n",
            "[[1 0]\n",
            " [4 0]]\n",
            "[[1 0 1]\n",
            " [4 0 0]\n",
            " [7 8 9]]\n"
          ]
        }
      ]
    },
    {
      "cell_type": "markdown",
      "source": [
        "- copy(): 배열이나 하위 배열 내의 값을 명시적으로 복사"
      ],
      "metadata": {
        "id": "oZNFFR7JgBqF"
      }
    },
    {
      "cell_type": "code",
      "source": [
        "print(a2)\n",
        "a2_sub_copy = a2[:2, :2].copy() # 원본을 유지하고 싶으면 .copy()를 써야한다\n",
        "print(a2_sub_copy)\n",
        "a2_sub_copy[:, 1] = 1\n",
        "print(a2_sub_copy)\n",
        "print(a2)"
      ],
      "metadata": {
        "colab": {
          "base_uri": "https://localhost:8080/"
        },
        "id": "GKWKMBcZgmOG",
        "outputId": "9f353882-7115-471b-ca58-48e932b7f006"
      },
      "execution_count": 50,
      "outputs": [
        {
          "output_type": "stream",
          "name": "stdout",
          "text": [
            "[[1 0 1]\n",
            " [4 0 0]\n",
            " [7 8 9]]\n",
            "[[1 0]\n",
            " [4 0]]\n",
            "[[1 1]\n",
            " [4 1]]\n",
            "[[1 0 1]\n",
            " [4 0 0]\n",
            " [7 8 9]]\n"
          ]
        }
      ]
    },
    {
      "cell_type": "markdown",
      "source": [
        "## 배열 변환"
      ],
      "metadata": {
        "id": "xdPw7HF1g56i"
      }
    },
    {
      "cell_type": "markdown",
      "source": [
        "### 배열 전치 및 축 변경"
      ],
      "metadata": {
        "id": "3gPjAX5xg77h"
      }
    },
    {
      "cell_type": "code",
      "source": [
        "print(a2)\n",
        "print(a2.T) # 행, 열 뒤집힘힘"
      ],
      "metadata": {
        "colab": {
          "base_uri": "https://localhost:8080/"
        },
        "id": "0mZ3BNR0g42v",
        "outputId": "795c1ddc-7d50-4359-db79-2347bf52efcb"
      },
      "execution_count": 51,
      "outputs": [
        {
          "output_type": "stream",
          "name": "stdout",
          "text": [
            "[[1 0 1]\n",
            " [4 0 0]\n",
            " [7 8 9]]\n",
            "[[1 4 7]\n",
            " [0 0 8]\n",
            " [1 0 9]]\n"
          ]
        }
      ]
    },
    {
      "cell_type": "code",
      "source": [
        "print(a3)\n",
        "print(a3.T)"
      ],
      "metadata": {
        "colab": {
          "base_uri": "https://localhost:8080/"
        },
        "id": "OlSAZpNEhLLp",
        "outputId": "c6fb5d72-76b2-43b3-b8b3-f43bbef19d01"
      },
      "execution_count": 52,
      "outputs": [
        {
          "output_type": "stream",
          "name": "stdout",
          "text": [
            "[[[1 2 3]\n",
            "  [4 5 6]\n",
            "  [7 8 9]]\n",
            "\n",
            " [[1 2 3]\n",
            "  [4 5 6]\n",
            "  [7 8 9]]\n",
            "\n",
            " [[1 2 3]\n",
            "  [4 5 6]\n",
            "  [7 8 9]]]\n",
            "[[[1 1 1]\n",
            "  [4 4 4]\n",
            "  [7 7 7]]\n",
            "\n",
            " [[2 2 2]\n",
            "  [5 5 5]\n",
            "  [8 8 8]]\n",
            "\n",
            " [[3 3 3]\n",
            "  [6 6 6]\n",
            "  [9 9 9]]]\n"
          ]
        }
      ]
    },
    {
      "cell_type": "code",
      "source": [
        "print(a2)\n",
        "print(a2.swapaxes(1, 0))"
      ],
      "metadata": {
        "colab": {
          "base_uri": "https://localhost:8080/"
        },
        "id": "IeCqAf6YhY6q",
        "outputId": "0cf10204-221d-44ef-ac7c-ab91fa2d4d44"
      },
      "execution_count": 53,
      "outputs": [
        {
          "output_type": "stream",
          "name": "stdout",
          "text": [
            "[[1 0 1]\n",
            " [4 0 0]\n",
            " [7 8 9]]\n",
            "[[1 4 7]\n",
            " [0 0 8]\n",
            " [1 0 9]]\n"
          ]
        }
      ]
    },
    {
      "cell_type": "code",
      "source": [
        "print(a3)\n",
        "print(a3.swapaxes(0, 1))\n",
        "print(a3.swapaxes(1, 2))"
      ],
      "metadata": {
        "colab": {
          "base_uri": "https://localhost:8080/"
        },
        "id": "XBdzlhmfhdk1",
        "outputId": "6d48f73a-6ee1-41ef-bb90-ecb27547646c"
      },
      "execution_count": 54,
      "outputs": [
        {
          "output_type": "stream",
          "name": "stdout",
          "text": [
            "[[[1 2 3]\n",
            "  [4 5 6]\n",
            "  [7 8 9]]\n",
            "\n",
            " [[1 2 3]\n",
            "  [4 5 6]\n",
            "  [7 8 9]]\n",
            "\n",
            " [[1 2 3]\n",
            "  [4 5 6]\n",
            "  [7 8 9]]]\n",
            "[[[1 2 3]\n",
            "  [1 2 3]\n",
            "  [1 2 3]]\n",
            "\n",
            " [[4 5 6]\n",
            "  [4 5 6]\n",
            "  [4 5 6]]\n",
            "\n",
            " [[7 8 9]\n",
            "  [7 8 9]\n",
            "  [7 8 9]]]\n",
            "[[[1 4 7]\n",
            "  [2 5 8]\n",
            "  [3 6 9]]\n",
            "\n",
            " [[1 4 7]\n",
            "  [2 5 8]\n",
            "  [3 6 9]]\n",
            "\n",
            " [[1 4 7]\n",
            "  [2 5 8]\n",
            "  [3 6 9]]]\n"
          ]
        }
      ]
    },
    {
      "cell_type": "markdown",
      "source": [
        "- reshape(): 배열의 형상을 변경"
      ],
      "metadata": {
        "id": "N0J2B8wjH6Tv"
      }
    },
    {
      "cell_type": "code",
      "source": [
        "n1 = np.arange(1, 10)\n",
        "print(n1)\n",
        "print(n1.reshape(3, 3))"
      ],
      "metadata": {
        "colab": {
          "base_uri": "https://localhost:8080/"
        },
        "id": "CaTMuj5pH8ar",
        "outputId": "d3e4c7a3-6b65-46f6-a1eb-fb35a30dc3a2"
      },
      "execution_count": 57,
      "outputs": [
        {
          "output_type": "stream",
          "name": "stdout",
          "text": [
            "[1 2 3 4 5 6 7 8 9]\n",
            "[[1 2 3]\n",
            " [4 5 6]\n",
            " [7 8 9]]\n"
          ]
        }
      ]
    },
    {
      "cell_type": "markdown",
      "source": [
        "- newaxis(): 새로운 축 추가"
      ],
      "metadata": {
        "id": "pDzlUiTOH_tb"
      }
    },
    {
      "cell_type": "code",
      "source": [
        "print(n1)\n",
        "print(n1[np.newaxis, :5])\n",
        "print(n1[:5, np.newaxis])"
      ],
      "metadata": {
        "colab": {
          "base_uri": "https://localhost:8080/"
        },
        "id": "8BatFVPlIFce",
        "outputId": "60a9a3fb-d9b8-4285-85e4-e3f138a1c1cb"
      },
      "execution_count": 59,
      "outputs": [
        {
          "output_type": "stream",
          "name": "stdout",
          "text": [
            "[1 2 3 4 5 6 7 8 9]\n",
            "[[1 2 3 4 5]]\n",
            "[[1]\n",
            " [2]\n",
            " [3]\n",
            " [4]\n",
            " [5]]\n"
          ]
        }
      ]
    },
    {
      "cell_type": "markdown",
      "source": [
        "## 배열 크기 변경"
      ],
      "metadata": {
        "id": "YK_U99-eIYvD"
      }
    },
    {
      "cell_type": "markdown",
      "source": [
        "- 배열 모양만 변경"
      ],
      "metadata": {
        "id": "rzXMy_L3Ia5x"
      }
    },
    {
      "cell_type": "code",
      "source": [
        "n2 = np.random.randint(0, 10, (2, 5))\n",
        "print(n2)\n",
        "n2.resize((5, 2))\n",
        "print(n2)"
      ],
      "metadata": {
        "colab": {
          "base_uri": "https://localhost:8080/"
        },
        "id": "Be39XIMxIaWT",
        "outputId": "fbb9213f-2edc-43a1-fce6-061f9a213e38"
      },
      "execution_count": 76,
      "outputs": [
        {
          "output_type": "stream",
          "name": "stdout",
          "text": [
            "[[7 1 2 2 9]\n",
            " [9 8 7 0 0]]\n",
            "[[7 1]\n",
            " [2 2]\n",
            " [9 9]\n",
            " [8 7]\n",
            " [0 0]]\n"
          ]
        }
      ]
    },
    {
      "cell_type": "markdown",
      "source": [
        "- 배열 크기 증가\n",
        "- 남은 공간은 0으로 채워짐"
      ],
      "metadata": {
        "id": "dn9V73m_IrOT"
      }
    },
    {
      "cell_type": "code",
      "source": [
        "n2.resize((5, 5), refcheck=False)\n",
        "print(n2)"
      ],
      "metadata": {
        "colab": {
          "base_uri": "https://localhost:8080/"
        },
        "id": "FRsoEofJH_CV",
        "outputId": "f5ce5afe-6439-4c63-f470-32b7cac00bf9"
      },
      "execution_count": 78,
      "outputs": [
        {
          "output_type": "stream",
          "name": "stdout",
          "text": [
            "[[7 1 2 2 9]\n",
            " [9 8 7 0 0]\n",
            " [0 0 0 0 0]\n",
            " [0 0 0 0 0]\n",
            " [0 0 0 0 0]]\n"
          ]
        }
      ]
    },
    {
      "cell_type": "markdown",
      "source": [
        "- 배열 크기 감소\n",
        "- 포함되지 않은 값은 누락됨"
      ],
      "metadata": {
        "id": "Bh2jE5PGJWDL"
      }
    },
    {
      "cell_type": "code",
      "source": [
        "n2.resize((3, 3), refcheck=False)\n",
        "print(n2)"
      ],
      "metadata": {
        "colab": {
          "base_uri": "https://localhost:8080/"
        },
        "id": "576aGl5vJoPS",
        "outputId": "961b49f9-7db7-4a4c-f020-98b3b63db88f"
      },
      "execution_count": 79,
      "outputs": [
        {
          "output_type": "stream",
          "name": "stdout",
          "text": [
            "[[7 1 2]\n",
            " [2 9 9]\n",
            " [8 7 0]]\n"
          ]
        }
      ]
    },
    {
      "cell_type": "markdown",
      "source": [
        "## 배열 추가\n",
        "- append(): 배열의 끝에 값 추가"
      ],
      "metadata": {
        "id": "FHUwwbs_K9DQ"
      }
    },
    {
      "cell_type": "code",
      "source": [
        "a2 = np.arange(1, 10).reshape(3, 3)\n",
        "print(a2)\n",
        "b2 = np.arange(10, 19).reshape(3, 3)\n",
        "print(b2)"
      ],
      "metadata": {
        "colab": {
          "base_uri": "https://localhost:8080/"
        },
        "id": "tTSjHSiKLG7R",
        "outputId": "02c07aa5-4dd6-4f27-eb14-5a0635d48a72"
      },
      "execution_count": 80,
      "outputs": [
        {
          "output_type": "stream",
          "name": "stdout",
          "text": [
            "[[1 2 3]\n",
            " [4 5 6]\n",
            " [7 8 9]]\n",
            "[[10 11 12]\n",
            " [13 14 15]\n",
            " [16 17 18]]\n"
          ]
        }
      ]
    },
    {
      "cell_type": "markdown",
      "source": [
        "- axis 지정이 없으면 1차원 배열 형태로 변형되어 결합"
      ],
      "metadata": {
        "id": "-QgfaomVLO-3"
      }
    },
    {
      "cell_type": "code",
      "source": [
        "c2 = np.append(a2, b2, axis=1)\n",
        "print(c2)"
      ],
      "metadata": {
        "colab": {
          "base_uri": "https://localhost:8080/"
        },
        "id": "HLZz17t7LRst",
        "outputId": "703d22e5-b6ee-41b9-b139-13a886f4ae47"
      },
      "execution_count": 86,
      "outputs": [
        {
          "output_type": "stream",
          "name": "stdout",
          "text": [
            "[[ 1  2  3 10 11 12]\n",
            " [ 4  5  6 13 14 15]\n",
            " [ 7  8  9 16 17 18]]\n"
          ]
        }
      ]
    },
    {
      "cell_type": "markdown",
      "source": [
        "## 배열 연결결"
      ],
      "metadata": {
        "id": "JFW8KpD7MPsR"
      }
    },
    {
      "cell_type": "markdown",
      "source": [
        "- concatenate(): 튜플이나 배열의 리스트를 인수로 사용해 배열 연결 "
      ],
      "metadata": {
        "id": "fEmfAYa9MRBN"
      }
    },
    {
      "cell_type": "code",
      "source": [
        "a1 = np.array([1, 3, 5])\n",
        "b1 = np.array([2, 4, 6])\n",
        "np.concatenate([a1, b1])"
      ],
      "metadata": {
        "colab": {
          "base_uri": "https://localhost:8080/"
        },
        "id": "GWAFa_KzMWn6",
        "outputId": "a655e12c-0780-464d-d351-e115bb70f65d"
      },
      "execution_count": 88,
      "outputs": [
        {
          "output_type": "execute_result",
          "data": {
            "text/plain": [
              "array([1, 3, 5, 2, 4, 6])"
            ]
          },
          "metadata": {},
          "execution_count": 88
        }
      ]
    },
    {
      "cell_type": "code",
      "source": [
        "c1 = np.array([7, 8, 9])\n",
        "np.concatenate([a1, b1, c1])"
      ],
      "metadata": {
        "colab": {
          "base_uri": "https://localhost:8080/"
        },
        "id": "c1GFbQbDMd30",
        "outputId": "a96ab573-ffe2-4fa9-f43c-40c1381d610c"
      },
      "execution_count": 90,
      "outputs": [
        {
          "output_type": "execute_result",
          "data": {
            "text/plain": [
              "array([1, 3, 5, 2, 4, 6, 7, 8, 9])"
            ]
          },
          "metadata": {},
          "execution_count": 90
        }
      ]
    },
    {
      "cell_type": "code",
      "source": [
        "a2 = np.array([[1, 2, 3],\n",
        "              [4, 5, 6]])\n",
        "np.concatenate([a2, a2])"
      ],
      "metadata": {
        "colab": {
          "base_uri": "https://localhost:8080/"
        },
        "id": "emFuUdzQMnTG",
        "outputId": "beb461e2-9c28-4326-e6f9-6384a20d0286"
      },
      "execution_count": 92,
      "outputs": [
        {
          "output_type": "execute_result",
          "data": {
            "text/plain": [
              "array([[1, 2, 3],\n",
              "       [4, 5, 6],\n",
              "       [1, 2, 3],\n",
              "       [4, 5, 6]])"
            ]
          },
          "metadata": {},
          "execution_count": 92
        }
      ]
    },
    {
      "cell_type": "code",
      "source": [
        "a2 = np.array([[1, 2, 3],\n",
        "              [4, 5, 6]])\n",
        "np.concatenate([a2, a2], axis=1)"
      ],
      "metadata": {
        "colab": {
          "base_uri": "https://localhost:8080/"
        },
        "id": "VzqoYqcfMwsg",
        "outputId": "d3c27372-dbba-4d47-8e1a-becc5984a4fc"
      },
      "execution_count": 93,
      "outputs": [
        {
          "output_type": "execute_result",
          "data": {
            "text/plain": [
              "array([[1, 2, 3, 1, 2, 3],\n",
              "       [4, 5, 6, 4, 5, 6]])"
            ]
          },
          "metadata": {},
          "execution_count": 93
        }
      ]
    },
    {
      "cell_type": "markdown",
      "source": [
        "- vstack(): 수직 스택(vertical stack), 1차원으로 연결"
      ],
      "metadata": {
        "id": "FMRHAgn1MzUy"
      }
    },
    {
      "cell_type": "code",
      "source": [
        "np.vstack([a2, a2])"
      ],
      "metadata": {
        "colab": {
          "base_uri": "https://localhost:8080/"
        },
        "id": "J2PTigaDM4_z",
        "outputId": "c387d9e4-51bd-481b-8c80-da590abc82fd"
      },
      "execution_count": 94,
      "outputs": [
        {
          "output_type": "execute_result",
          "data": {
            "text/plain": [
              "array([[1, 2, 3],\n",
              "       [4, 5, 6],\n",
              "       [1, 2, 3],\n",
              "       [4, 5, 6]])"
            ]
          },
          "metadata": {},
          "execution_count": 94
        }
      ]
    },
    {
      "cell_type": "markdown",
      "source": [
        "- hstack(): 수평 스택(horizontal stack), 2차원으로 연결"
      ],
      "metadata": {
        "id": "CzC1P6vZM80Q"
      }
    },
    {
      "cell_type": "code",
      "source": [
        "np.hstack([a2, a2])"
      ],
      "metadata": {
        "colab": {
          "base_uri": "https://localhost:8080/"
        },
        "id": "DsPpC7wiND6M",
        "outputId": "db85e6b8-6042-4b1e-f661-814de8b1c937"
      },
      "execution_count": 95,
      "outputs": [
        {
          "output_type": "execute_result",
          "data": {
            "text/plain": [
              "array([[1, 2, 3, 1, 2, 3],\n",
              "       [4, 5, 6, 4, 5, 6]])"
            ]
          },
          "metadata": {},
          "execution_count": 95
        }
      ]
    },
    {
      "cell_type": "markdown",
      "source": [
        "- dstack(): 깊이 스택(depth stack), 3차원으로 연결"
      ],
      "metadata": {
        "id": "B7E84gdVNGsO"
      }
    },
    {
      "cell_type": "code",
      "source": [
        "np.dstack([a2, a2])"
      ],
      "metadata": {
        "colab": {
          "base_uri": "https://localhost:8080/"
        },
        "id": "FC8pv3T9NO8o",
        "outputId": "4e849962-449f-43bf-edf9-6856118f9b28"
      },
      "execution_count": 96,
      "outputs": [
        {
          "output_type": "execute_result",
          "data": {
            "text/plain": [
              "array([[[1, 1],\n",
              "        [2, 2],\n",
              "        [3, 3]],\n",
              "\n",
              "       [[4, 4],\n",
              "        [5, 5],\n",
              "        [6, 6]]])"
            ]
          },
          "metadata": {},
          "execution_count": 96
        }
      ]
    },
    {
      "cell_type": "markdown",
      "source": [
        "- stack(): 새로운 차원으로 연결"
      ],
      "metadata": {
        "id": "f9o43YPTNScx"
      }
    },
    {
      "cell_type": "code",
      "source": [
        "np.stack([a2, a2])"
      ],
      "metadata": {
        "colab": {
          "base_uri": "https://localhost:8080/"
        },
        "id": "J_ETCFc5OAvi",
        "outputId": "2fc14050-da1c-45ff-e49b-641864b01f8d"
      },
      "execution_count": 103,
      "outputs": [
        {
          "output_type": "execute_result",
          "data": {
            "text/plain": [
              "array([[[1, 2, 3],\n",
              "        [4, 5, 6]],\n",
              "\n",
              "       [[1, 2, 3],\n",
              "        [4, 5, 6]]])"
            ]
          },
          "metadata": {},
          "execution_count": 103
        }
      ]
    },
    {
      "cell_type": "markdown",
      "source": [
        "## 배열 분할"
      ],
      "metadata": {
        "id": "pBZ3W2SNOFan"
      }
    },
    {
      "cell_type": "markdown",
      "source": [
        "- split(): 배열 분할할"
      ],
      "metadata": {
        "id": "RNrHifIMOIU0"
      }
    },
    {
      "cell_type": "code",
      "source": [
        "a1 = np.arange(0, 10)\n",
        "print(a1)\n",
        "b1, c1 = np.split(a1, [5])\n",
        "print(b1, c1)\n",
        "b1, c1, d1, e1, f1 = np.split(a1,[2, 4, 6, 8])\n",
        "print(b1, c1, d1, e1, f1)"
      ],
      "metadata": {
        "colab": {
          "base_uri": "https://localhost:8080/"
        },
        "id": "YW1gKEkgOG8r",
        "outputId": "e927a168-a650-4a85-892c-834cec651aa2"
      },
      "execution_count": 109,
      "outputs": [
        {
          "output_type": "stream",
          "name": "stdout",
          "text": [
            "[0 1 2 3 4 5 6 7 8 9]\n",
            "[0 1 2 3 4] [5 6 7 8 9]\n",
            "[0 1] [2 3] [4 5] [6 7] [8 9]\n"
          ]
        }
      ]
    },
    {
      "cell_type": "markdown",
      "source": [
        "- vsplit(): 수직 분할, 1차원으로 분할"
      ],
      "metadata": {
        "id": "Pzsxm1fNOyNW"
      }
    },
    {
      "cell_type": "code",
      "source": [
        "a2 = np.arange(1, 10).reshape(3, 3)\n",
        "print(a2)\n",
        "b2, c2 = np.vsplit(a2, [2])\n",
        "print(b2)\n",
        "print(c2)"
      ],
      "metadata": {
        "colab": {
          "base_uri": "https://localhost:8080/"
        },
        "id": "C2YKdgpRO07C",
        "outputId": "092c96f5-45db-4e93-e21b-5a6bb858357d"
      },
      "execution_count": 110,
      "outputs": [
        {
          "output_type": "stream",
          "name": "stdout",
          "text": [
            "[[1 2 3]\n",
            " [4 5 6]\n",
            " [7 8 9]]\n",
            "[[1 2 3]\n",
            " [4 5 6]]\n",
            "[[7 8 9]]\n"
          ]
        }
      ]
    },
    {
      "cell_type": "markdown",
      "source": [
        "- hsplit(): 수평 분할, 2차원으로 분할"
      ],
      "metadata": {
        "id": "WMzMf-HIPFA4"
      }
    },
    {
      "cell_type": "code",
      "source": [
        "a2 = np.arange(1, 10).reshape(3, 3)\n",
        "print(a2)\n",
        "b2, c2 = np.hsplit(a2, [2])\n",
        "print(b2)\n",
        "print(c2)"
      ],
      "metadata": {
        "colab": {
          "base_uri": "https://localhost:8080/"
        },
        "id": "0XKqWc-3PHG9",
        "outputId": "f58438ce-337e-4635-c9b5-ef0a251d5958"
      },
      "execution_count": 113,
      "outputs": [
        {
          "output_type": "stream",
          "name": "stdout",
          "text": [
            "[[1 2 3]\n",
            " [4 5 6]\n",
            " [7 8 9]]\n",
            "[[1 2]\n",
            " [4 5]\n",
            " [7 8]]\n",
            "[[3]\n",
            " [6]\n",
            " [9]]\n"
          ]
        }
      ]
    },
    {
      "cell_type": "markdown",
      "source": [
        "- dsplit(): 깊이 분할, 3차원으로 분할"
      ],
      "metadata": {
        "id": "JExIsluJPJv0"
      }
    },
    {
      "cell_type": "code",
      "source": [
        "a3 = np.arange(1, 28).reshape(3, 3, 3)\n",
        "print(a3)\n",
        "b3, c3 = np.dsplit(a3, [2])\n",
        "print(b3)\n",
        "print(c3)"
      ],
      "metadata": {
        "colab": {
          "base_uri": "https://localhost:8080/"
        },
        "id": "-XfHesrZPMkV",
        "outputId": "1a985cb9-4230-4df3-c36e-20f54136b836"
      },
      "execution_count": 115,
      "outputs": [
        {
          "output_type": "stream",
          "name": "stdout",
          "text": [
            "[[[ 1  2  3]\n",
            "  [ 4  5  6]\n",
            "  [ 7  8  9]]\n",
            "\n",
            " [[10 11 12]\n",
            "  [13 14 15]\n",
            "  [16 17 18]]\n",
            "\n",
            " [[19 20 21]\n",
            "  [22 23 24]\n",
            "  [25 26 27]]]\n",
            "[[[ 1  2]\n",
            "  [ 4  5]\n",
            "  [ 7  8]]\n",
            "\n",
            " [[10 11]\n",
            "  [13 14]\n",
            "  [16 17]]\n",
            "\n",
            " [[19 20]\n",
            "  [22 23]\n",
            "  [25 26]]]\n",
            "[[[ 3]\n",
            "  [ 6]\n",
            "  [ 9]]\n",
            "\n",
            " [[12]\n",
            "  [15]\n",
            "  [18]]\n",
            "\n",
            " [[21]\n",
            "  [24]\n",
            "  [27]]]\n"
          ]
        }
      ]
    },
    {
      "cell_type": "markdown",
      "source": [
        "## 배열 연산"
      ],
      "metadata": {
        "id": "g-WG4z7vPro-"
      }
    },
    {
      "cell_type": "markdown",
      "source": [
        "- NumPy의 배열 연산은 벡터화(vectorized)연산을 사용\n",
        "- 일반적으로 NumPy의 범용 함수(universal functions)를 통해 구현\n",
        "- 배열 요소에 대한 반복적인 계산을 효율적으로 수행"
      ],
      "metadata": {
        "id": "_9YAR1Y1Ptns"
      }
    },
    {
      "cell_type": "markdown",
      "source": [
        "## 브로드캐스팅(Broadcasting)"
      ],
      "metadata": {
        "id": "-ZicLTCSP9Uo"
      }
    },
    {
      "cell_type": "code",
      "source": [
        "a1 = np.array([1, 2, 3])\n",
        "print(a1)\n",
        "print(a1 + 5)\n",
        "\n",
        "a2 = np.arange(1, 10).reshape(3, 3)\n",
        "print(a2)\n",
        "print(a2 + a1)\n",
        "\n",
        "b2 = np.array([1, 2, 3]).reshape(3, 1)\n",
        "print(b2)\n",
        "print(a1+b2)"
      ],
      "metadata": {
        "colab": {
          "base_uri": "https://localhost:8080/"
        },
        "id": "3Z7FhWcPQiIF",
        "outputId": "74c64bc0-80cd-4f98-b673-5471e46faf8f"
      },
      "execution_count": 118,
      "outputs": [
        {
          "output_type": "stream",
          "name": "stdout",
          "text": [
            "[1 2 3]\n",
            "[6 7 8]\n",
            "[[1 2 3]\n",
            " [4 5 6]\n",
            " [7 8 9]]\n",
            "[[ 2  4  6]\n",
            " [ 5  7  9]\n",
            " [ 8 10 12]]\n",
            "[[1]\n",
            " [2]\n",
            " [3]]\n",
            "[[2 3 4]\n",
            " [3 4 5]\n",
            " [4 5 6]]\n"
          ]
        }
      ]
    },
    {
      "cell_type": "markdown",
      "source": [
        "## 산술 연산(Arithmetic Operators)"
      ],
      "metadata": {
        "id": "zLOwr-B_RDYi"
      }
    },
    {
      "cell_type": "code",
      "source": [
        "a1 = np.arange(1, 10)\n",
        "print(a1)\n",
        "print(a1 + 1)\n",
        "print(np.subtract(a1, 10))\n",
        "\n",
        "print(-a1)\n",
        "print(np.negative(a1))\n",
        "\n",
        "print(a1 * 2)\n",
        "print(np.multiply(a1, 2))\n",
        "\n",
        "print(a1 / 2)\n",
        "print(np.divide(a1, 2))\n",
        "\n",
        "print(a1 // 2)\n",
        "print(np.floor_divide(a1, 2))\n",
        "\n",
        "print(a1 ** 2)\n",
        "print(np.power(a1, 2))\n",
        "\n",
        "print(a1 % 2)\n",
        "print(np.mod(a1, 2))"
      ],
      "metadata": {
        "colab": {
          "base_uri": "https://localhost:8080/"
        },
        "id": "8k9jizogRGOQ",
        "outputId": "ff692b3f-2474-4b41-d223-5d4be54dd8a5"
      },
      "execution_count": 129,
      "outputs": [
        {
          "output_type": "stream",
          "name": "stdout",
          "text": [
            "[1 2 3 4 5 6 7 8 9]\n",
            "[ 2  3  4  5  6  7  8  9 10]\n",
            "[-9 -8 -7 -6 -5 -4 -3 -2 -1]\n",
            "[-1 -2 -3 -4 -5 -6 -7 -8 -9]\n",
            "[-1 -2 -3 -4 -5 -6 -7 -8 -9]\n",
            "[ 2  4  6  8 10 12 14 16 18]\n",
            "[ 2  4  6  8 10 12 14 16 18]\n",
            "[0.5 1.  1.5 2.  2.5 3.  3.5 4.  4.5]\n",
            "[0.5 1.  1.5 2.  2.5 3.  3.5 4.  4.5]\n",
            "[0 1 1 2 2 3 3 4 4]\n",
            "[0 1 1 2 2 3 3 4 4]\n",
            "[ 1  4  9 16 25 36 49 64 81]\n",
            "[ 1  4  9 16 25 36 49 64 81]\n",
            "[1 0 1 0 1 0 1 0 1]\n",
            "[1 0 1 0 1 0 1 0 1]\n"
          ]
        }
      ]
    },
    {
      "cell_type": "code",
      "source": [
        "a1 = np.arange(1, 10)\n",
        "print(a1)\n",
        "b1 = np.random.randint(1, 10, size=9)\n",
        "print(b1)\n",
        "print(a1 + b1)\n",
        "print(a1 - b1)\n",
        "print(a1 / b1)\n",
        "print(a1 // b1)\n",
        "print(a1 ** b1)\n",
        "print(a1 % b1)"
      ],
      "metadata": {
        "colab": {
          "base_uri": "https://localhost:8080/"
        },
        "id": "hmIv_oZFR_7P",
        "outputId": "984cae1b-f97d-4dd0-c92a-505600c5edb2"
      },
      "execution_count": 131,
      "outputs": [
        {
          "output_type": "stream",
          "name": "stdout",
          "text": [
            "[1 2 3 4 5 6 7 8 9]\n",
            "[9 1 9 3 5 3 2 6 2]\n",
            "[10  3 12  7 10  9  9 14 11]\n",
            "[-8  1 -6  1  0  3  5  2  7]\n",
            "[0.11111111 2.         0.33333333 1.33333333 1.         2.\n",
            " 3.5        1.33333333 4.5       ]\n",
            "[0 2 0 1 1 2 3 1 4]\n",
            "[     1      2  19683     64   3125    216     49 262144     81]\n",
            "[1 0 3 1 0 0 1 2 1]\n"
          ]
        }
      ]
    },
    {
      "cell_type": "code",
      "source": [
        "a2 = np.arange(1, 10).reshape(3, 3)\n",
        "print(a2)\n",
        "b2 = np.random.randint(1, 10, size=(3, 3))\n",
        "print(b2)\n",
        "\n",
        "print(a2 + b2)\n",
        "print(a2 - b2)\n",
        "print(a2 * b2)\n",
        "print(a2 / b2)\n",
        "print(a2 // b2)\n",
        "print(a2 ** b2)\n",
        "print(a2 % b2)"
      ],
      "metadata": {
        "colab": {
          "base_uri": "https://localhost:8080/"
        },
        "id": "skAMhsIiSgkw",
        "outputId": "09079334-ae0c-44a5-a6c6-6ef30831af86"
      },
      "execution_count": 134,
      "outputs": [
        {
          "output_type": "stream",
          "name": "stdout",
          "text": [
            "[[1 2 3]\n",
            " [4 5 6]\n",
            " [7 8 9]]\n",
            "[[4 9 5]\n",
            " [1 5 5]\n",
            " [7 3 9]]\n",
            "[[ 5 11  8]\n",
            " [ 5 10 11]\n",
            " [14 11 18]]\n",
            "[[-3 -7 -2]\n",
            " [ 3  0  1]\n",
            " [ 0  5  0]]\n",
            "[[ 4 18 15]\n",
            " [ 4 25 30]\n",
            " [49 24 81]]\n",
            "[[0.25       0.22222222 0.6       ]\n",
            " [4.         1.         1.2       ]\n",
            " [1.         2.66666667 1.        ]]\n",
            "[[0 0 0]\n",
            " [4 1 1]\n",
            " [1 2 1]]\n",
            "[[        1       512       243]\n",
            " [        4      3125      7776]\n",
            " [   823543       512 387420489]]\n",
            "[[1 2 3]\n",
            " [0 0 1]\n",
            " [0 2 0]]\n"
          ]
        }
      ]
    },
    {
      "cell_type": "markdown",
      "source": [
        "## 절대값 함수(Absolute Function)\n",
        "- absolute(), abs(): 내장된 절대값 함수"
      ],
      "metadata": {
        "id": "nEexwQMpTAEG"
      }
    },
    {
      "cell_type": "code",
      "source": [
        "a1 = np.random.randint(-10, 10, size=5)\n",
        "print(a1)\n",
        "print(np.absolute(a1))"
      ],
      "metadata": {
        "colab": {
          "base_uri": "https://localhost:8080/"
        },
        "id": "zdDK32-sTGpv",
        "outputId": "e9db1735-07e1-4281-9a20-403756982e2c"
      },
      "execution_count": 135,
      "outputs": [
        {
          "output_type": "stream",
          "name": "stdout",
          "text": [
            "[ -2  -1 -10  -7  -8]\n",
            "[ 2  1 10  7  8]\n"
          ]
        }
      ]
    },
    {
      "cell_type": "markdown",
      "source": [
        "## 제곱/제곱근 함수\n",
        "- square(), sqrt(): 제곱, 제곱근 함수"
      ],
      "metadata": {
        "id": "ZSDVs_kyTSQ1"
      }
    },
    {
      "cell_type": "code",
      "source": [
        "print(a1)\n",
        "print(np.square(a1))\n",
        "print(np.sqrt(a1))"
      ],
      "metadata": {
        "colab": {
          "base_uri": "https://localhost:8080/"
        },
        "id": "hb6vU4WXTZ1X",
        "outputId": "781c2cc6-686c-43e7-a26c-922e6a27817c"
      },
      "execution_count": 136,
      "outputs": [
        {
          "output_type": "stream",
          "name": "stdout",
          "text": [
            "[ -2  -1 -10  -7  -8]\n",
            "[  4   1 100  49  64]\n",
            "[nan nan nan nan nan]\n"
          ]
        },
        {
          "output_type": "stream",
          "name": "stderr",
          "text": [
            "<ipython-input-136-4e034cb7ea92>:3: RuntimeWarning: invalid value encountered in sqrt\n",
            "  print(np.sqrt(a1))\n"
          ]
        }
      ]
    },
    {
      "cell_type": "markdown",
      "source": [
        "## 지수와 로그 함수 (Exponential and Log Function)"
      ],
      "metadata": {
        "id": "4QABvUw8TfzW"
      }
    },
    {
      "cell_type": "code",
      "source": [
        "a1 = np.random.randint(1, 10, size=5)\n",
        "print(a1)\n",
        "print(np.exp(a1))\n",
        "print(np.exp2(a1))\n",
        "print(np.power(a1, 2))"
      ],
      "metadata": {
        "colab": {
          "base_uri": "https://localhost:8080/"
        },
        "id": "Kw-IsLQ0Tk_B",
        "outputId": "220fe841-ca2b-4200-b5e9-c71b55926418"
      },
      "execution_count": 137,
      "outputs": [
        {
          "output_type": "stream",
          "name": "stdout",
          "text": [
            "[5 1 6 6 9]\n",
            "[1.48413159e+02 2.71828183e+00 4.03428793e+02 4.03428793e+02\n",
            " 8.10308393e+03]\n",
            "[ 32.   2.  64.  64. 512.]\n",
            "[25  1 36 36 81]\n"
          ]
        }
      ]
    },
    {
      "cell_type": "code",
      "source": [
        "print(a1)\n",
        "print(np.log(a1))\n",
        "print(np.log2(a1))\n",
        "print(np.log10(a1))"
      ],
      "metadata": {
        "colab": {
          "base_uri": "https://localhost:8080/"
        },
        "id": "iJl9vgpuTtS8",
        "outputId": "358aa82e-d632-4003-b2e7-e19312ef9a2b"
      },
      "execution_count": 138,
      "outputs": [
        {
          "output_type": "stream",
          "name": "stdout",
          "text": [
            "[5 1 6 6 9]\n",
            "[1.60943791 0.         1.79175947 1.79175947 2.19722458]\n",
            "[2.32192809 0.         2.5849625  2.5849625  3.169925  ]\n",
            "[0.69897    0.         0.77815125 0.77815125 0.95424251]\n"
          ]
        }
      ]
    },
    {
      "cell_type": "markdown",
      "source": [
        "## 삼각함수"
      ],
      "metadata": {
        "id": "13XU028ZT5R0"
      }
    },
    {
      "cell_type": "code",
      "source": [
        "t = np.linspace(0, np.pi, 3)\n",
        "print(t)\n",
        "print(np.sin(t))\n",
        "print(np.cos(t))\n",
        "print(np.tan(t))"
      ],
      "metadata": {
        "colab": {
          "base_uri": "https://localhost:8080/"
        },
        "id": "bpHEqEY6UBX2",
        "outputId": "970686fc-b243-472e-997b-df88b9d56c7e"
      },
      "execution_count": 139,
      "outputs": [
        {
          "output_type": "stream",
          "name": "stdout",
          "text": [
            "[0.         1.57079633 3.14159265]\n",
            "[0.0000000e+00 1.0000000e+00 1.2246468e-16]\n",
            "[ 1.000000e+00  6.123234e-17 -1.000000e+00]\n",
            "[ 0.00000000e+00  1.63312394e+16 -1.22464680e-16]\n"
          ]
        }
      ]
    },
    {
      "cell_type": "code",
      "source": [
        "x = [-1, 0, 1]\n",
        "print(x)\n",
        "print(np.arcsin(x))\n",
        "print(np.arccos(x))\n",
        "print(np.arctan(x))"
      ],
      "metadata": {
        "colab": {
          "base_uri": "https://localhost:8080/"
        },
        "id": "MubgKYs4UICB",
        "outputId": "c5cf3d05-faa5-4de2-80af-56e514123290"
      },
      "execution_count": 140,
      "outputs": [
        {
          "output_type": "stream",
          "name": "stdout",
          "text": [
            "[-1, 0, 1]\n",
            "[-1.57079633  0.          1.57079633]\n",
            "[3.14159265 1.57079633 0.        ]\n",
            "[-0.78539816  0.          0.78539816]\n"
          ]
        }
      ]
    },
    {
      "cell_type": "markdown",
      "source": [
        "## 집계 함수"
      ],
      "metadata": {
        "id": "VGCMCR5gUXOT"
      }
    },
    {
      "cell_type": "code",
      "source": [
        "a2 = np.random.randint(1, 10, size=(3, 3))\n",
        "print(a2)\n",
        "print(a2.sum(), np.sum(a2))\n",
        "print(a2.sum(axis=0), np.sum(a2, axis=0))\n",
        "print(a2.sum(axis=1), np.sum(a2, axis=1))"
      ],
      "metadata": {
        "colab": {
          "base_uri": "https://localhost:8080/"
        },
        "id": "nraz_6sFUZEk",
        "outputId": "8686bb5f-7b15-4060-9cdc-7073a6191d1c"
      },
      "execution_count": 141,
      "outputs": [
        {
          "output_type": "stream",
          "name": "stdout",
          "text": [
            "[[8 5 8]\n",
            " [1 5 3]\n",
            " [8 8 3]]\n",
            "49 49\n",
            "[17 18 14] [17 18 14]\n",
            "[21  9 19] [21  9 19]\n"
          ]
        }
      ]
    },
    {
      "cell_type": "code",
      "source": [
        "print(a2)\n",
        "print(np.cumsum(a2))\n",
        "print(np.cumsum(a2, axis=0))\n",
        "print(np.cumsum(a2, axis=1))"
      ],
      "metadata": {
        "colab": {
          "base_uri": "https://localhost:8080/"
        },
        "id": "EE4bzA2pVAC_",
        "outputId": "674c8f2f-6ad0-4211-b58c-563f08aa7497"
      },
      "execution_count": 143,
      "outputs": [
        {
          "output_type": "stream",
          "name": "stdout",
          "text": [
            "[[8 5 8]\n",
            " [1 5 3]\n",
            " [8 8 3]]\n",
            "[ 8 13 21 22 27 30 38 46 49]\n",
            "[[ 8  5  8]\n",
            " [ 9 10 11]\n",
            " [17 18 14]]\n",
            "[[ 8 13 21]\n",
            " [ 1  6  9]\n",
            " [ 8 16 19]]\n"
          ]
        }
      ]
    },
    {
      "cell_type": "code",
      "source": [
        "print(a2)\n",
        "print(np.diff(a2))\n",
        "print(np.diff(a2, axis=0))\n",
        "print(np.diff(a2, axis=1))"
      ],
      "metadata": {
        "colab": {
          "base_uri": "https://localhost:8080/"
        },
        "id": "o-oeiF5oVM1W",
        "outputId": "b027b0ed-0759-41f2-b0b3-4051d01c1bce"
      },
      "execution_count": 144,
      "outputs": [
        {
          "output_type": "stream",
          "name": "stdout",
          "text": [
            "[[8 5 8]\n",
            " [1 5 3]\n",
            " [8 8 3]]\n",
            "[[-3  3]\n",
            " [ 4 -2]\n",
            " [ 0 -5]]\n",
            "[[-7  0 -5]\n",
            " [ 7  3  0]]\n",
            "[[-3  3]\n",
            " [ 4 -2]\n",
            " [ 0 -5]]\n"
          ]
        }
      ]
    },
    {
      "cell_type": "code",
      "source": [
        "print(a2)\n",
        "print(np.prod(a2))\n",
        "print(np.prod(a2, axis=0))\n",
        "print(np.prod(a2, axis=1))"
      ],
      "metadata": {
        "colab": {
          "base_uri": "https://localhost:8080/"
        },
        "id": "tLSYM9w5VPV3",
        "outputId": "70dbdc73-d780-4d8e-a6c9-ec3b561ee438"
      },
      "execution_count": 146,
      "outputs": [
        {
          "output_type": "stream",
          "name": "stdout",
          "text": [
            "[[8 5 8]\n",
            " [1 5 3]\n",
            " [8 8 3]]\n",
            "921600\n",
            "[ 64 200  72]\n",
            "[320  15 192]\n"
          ]
        }
      ]
    },
    {
      "cell_type": "code",
      "source": [
        "print(a2)\n",
        "b2 = np.ones_like(a2)\n",
        "print(b2)\n",
        "print(np.dot(a2, b2))\n",
        "print(np.matmul(a2, b2))"
      ],
      "metadata": {
        "colab": {
          "base_uri": "https://localhost:8080/"
        },
        "id": "fuzgsf2_VmpV",
        "outputId": "a8b7ee5e-44ac-4e5f-8463-98187f1fc717"
      },
      "execution_count": 147,
      "outputs": [
        {
          "output_type": "stream",
          "name": "stdout",
          "text": [
            "[[8 5 8]\n",
            " [1 5 3]\n",
            " [8 8 3]]\n",
            "[[1 1 1]\n",
            " [1 1 1]\n",
            " [1 1 1]]\n",
            "[[21 21 21]\n",
            " [ 9  9  9]\n",
            " [19 19 19]]\n",
            "[[21 21 21]\n",
            " [ 9  9  9]\n",
            " [19 19 19]]\n"
          ]
        }
      ]
    },
    {
      "cell_type": "code",
      "source": [
        "print(a2)\n",
        "print(b2)\n",
        "print(np.tensordot(a2, b2))\n",
        "print(np.tensordot(a2, b2, axes=0))\n",
        "print(np.tensordot(a2, b2, axes=1))"
      ],
      "metadata": {
        "colab": {
          "base_uri": "https://localhost:8080/"
        },
        "id": "R76JoX9sWI2n",
        "outputId": "6f255f46-cba6-4aa6-f01c-5596c7f3f12c"
      },
      "execution_count": 148,
      "outputs": [
        {
          "output_type": "stream",
          "name": "stdout",
          "text": [
            "[[8 5 8]\n",
            " [1 5 3]\n",
            " [8 8 3]]\n",
            "[[1 1 1]\n",
            " [1 1 1]\n",
            " [1 1 1]]\n",
            "49\n",
            "[[[[8 8 8]\n",
            "   [8 8 8]\n",
            "   [8 8 8]]\n",
            "\n",
            "  [[5 5 5]\n",
            "   [5 5 5]\n",
            "   [5 5 5]]\n",
            "\n",
            "  [[8 8 8]\n",
            "   [8 8 8]\n",
            "   [8 8 8]]]\n",
            "\n",
            "\n",
            " [[[1 1 1]\n",
            "   [1 1 1]\n",
            "   [1 1 1]]\n",
            "\n",
            "  [[5 5 5]\n",
            "   [5 5 5]\n",
            "   [5 5 5]]\n",
            "\n",
            "  [[3 3 3]\n",
            "   [3 3 3]\n",
            "   [3 3 3]]]\n",
            "\n",
            "\n",
            " [[[8 8 8]\n",
            "   [8 8 8]\n",
            "   [8 8 8]]\n",
            "\n",
            "  [[8 8 8]\n",
            "   [8 8 8]\n",
            "   [8 8 8]]\n",
            "\n",
            "  [[3 3 3]\n",
            "   [3 3 3]\n",
            "   [3 3 3]]]]\n",
            "[[21 21 21]\n",
            " [ 9  9  9]\n",
            " [19 19 19]]\n"
          ]
        }
      ]
    },
    {
      "cell_type": "code",
      "source": [
        "x = [1, 2, 3]\n",
        "y = [4, 5, 6]\n",
        "print(np.cross(x, y))"
      ],
      "metadata": {
        "colab": {
          "base_uri": "https://localhost:8080/"
        },
        "id": "4LccOSGiWmWI",
        "outputId": "0774c137-e590-4938-dc05-d0ec549beb18"
      },
      "execution_count": 150,
      "outputs": [
        {
          "output_type": "stream",
          "name": "stdout",
          "text": [
            "[-3  6 -3]\n"
          ]
        }
      ]
    },
    {
      "cell_type": "code",
      "source": [
        "print(a2)\n",
        "print(b2)\n",
        "print(np.inner(a2, b2))\n",
        "print(np.outer(a2, b2))"
      ],
      "metadata": {
        "colab": {
          "base_uri": "https://localhost:8080/"
        },
        "id": "NeY-uFAyWwsX",
        "outputId": "1a90c231-8942-4c60-8773-940dcca52090"
      },
      "execution_count": 151,
      "outputs": [
        {
          "output_type": "stream",
          "name": "stdout",
          "text": [
            "[[8 5 8]\n",
            " [1 5 3]\n",
            " [8 8 3]]\n",
            "[[1 1 1]\n",
            " [1 1 1]\n",
            " [1 1 1]]\n",
            "[[21 21 21]\n",
            " [ 9  9  9]\n",
            " [19 19 19]]\n",
            "[[8 8 8 8 8 8 8 8 8]\n",
            " [5 5 5 5 5 5 5 5 5]\n",
            " [8 8 8 8 8 8 8 8 8]\n",
            " [1 1 1 1 1 1 1 1 1]\n",
            " [5 5 5 5 5 5 5 5 5]\n",
            " [3 3 3 3 3 3 3 3 3]\n",
            " [8 8 8 8 8 8 8 8 8]\n",
            " [8 8 8 8 8 8 8 8 8]\n",
            " [3 3 3 3 3 3 3 3 3]]\n"
          ]
        }
      ]
    },
    {
      "cell_type": "code",
      "source": [
        "print(a2)\n",
        "print(np.mean(a2))\n",
        "print(np.mean(a2, axis=0))\n",
        "print(np.mean(a2, axis=1))"
      ],
      "metadata": {
        "colab": {
          "base_uri": "https://localhost:8080/"
        },
        "id": "Be1V2arXW8JT",
        "outputId": "210ce4a9-a258-4c01-d748-3c4a5f7dba7a"
      },
      "execution_count": 152,
      "outputs": [
        {
          "output_type": "stream",
          "name": "stdout",
          "text": [
            "[[8 5 8]\n",
            " [1 5 3]\n",
            " [8 8 3]]\n",
            "5.444444444444445\n",
            "[5.66666667 6.         4.66666667]\n",
            "[7.         3.         6.33333333]\n"
          ]
        }
      ]
    },
    {
      "cell_type": "code",
      "source": [
        "print(a2)\n",
        "print(np.std(a2))\n",
        "print(np.std(a2, axis=0))\n",
        "print(np.std(a2, axis=1))"
      ],
      "metadata": {
        "colab": {
          "base_uri": "https://localhost:8080/"
        },
        "id": "wSP-3Jj7XDc3",
        "outputId": "bc21ea8c-ccad-4551-dbe7-a3bf56d97cc5"
      },
      "execution_count": 153,
      "outputs": [
        {
          "output_type": "stream",
          "name": "stdout",
          "text": [
            "[[8 5 8]\n",
            " [1 5 3]\n",
            " [8 8 3]]\n",
            "2.543449587168799\n",
            "[3.29983165 1.41421356 2.3570226 ]\n",
            "[1.41421356 1.63299316 2.3570226 ]\n"
          ]
        }
      ]
    },
    {
      "cell_type": "code",
      "source": [
        "print(a2)\n",
        "print(np.var(a2))\n",
        "print(np.var(a2, axis=0))\n",
        "print(np.var(a2, axis=1))"
      ],
      "metadata": {
        "colab": {
          "base_uri": "https://localhost:8080/"
        },
        "id": "qvuWYc4hXYOa",
        "outputId": "ec6179f9-aa2c-4a98-d405-8b5860fd7351"
      },
      "execution_count": 154,
      "outputs": [
        {
          "output_type": "stream",
          "name": "stdout",
          "text": [
            "[[8 5 8]\n",
            " [1 5 3]\n",
            " [8 8 3]]\n",
            "6.469135802469136\n",
            "[10.88888889  2.          5.55555556]\n",
            "[2.         2.66666667 5.55555556]\n"
          ]
        }
      ]
    },
    {
      "cell_type": "code",
      "source": [
        "print(a2)\n",
        "print(np.min(a2))\n",
        "print(np.min(a2, axis=0))\n",
        "print(np.min(a2, axis=1))"
      ],
      "metadata": {
        "colab": {
          "base_uri": "https://localhost:8080/"
        },
        "id": "Sj-BkFHsXbGO",
        "outputId": "d85e8a79-0c18-4a1b-9400-9fd1a229379c"
      },
      "execution_count": 155,
      "outputs": [
        {
          "output_type": "stream",
          "name": "stdout",
          "text": [
            "[[8 5 8]\n",
            " [1 5 3]\n",
            " [8 8 3]]\n",
            "1\n",
            "[1 5 3]\n",
            "[5 1 3]\n"
          ]
        }
      ]
    },
    {
      "cell_type": "code",
      "source": [
        "print(a2)\n",
        "print(np.max(a2))\n",
        "print(np.max(a2, axis=0))\n",
        "print(np.max(a2, axis=1))"
      ],
      "metadata": {
        "colab": {
          "base_uri": "https://localhost:8080/"
        },
        "id": "11ixLnT1Xdd8",
        "outputId": "4f1e85e8-c55a-4014-ab37-f212dac7bfc9"
      },
      "execution_count": 156,
      "outputs": [
        {
          "output_type": "stream",
          "name": "stdout",
          "text": [
            "[[8 5 8]\n",
            " [1 5 3]\n",
            " [8 8 3]]\n",
            "8\n",
            "[8 8 8]\n",
            "[8 5 8]\n"
          ]
        }
      ]
    },
    {
      "cell_type": "code",
      "source": [
        "print(a2)\n",
        "print(np.argmin(a2))\n",
        "print(np.argmin(a2, axis=0))\n",
        "print(np.argmin(a2, axis=1))"
      ],
      "metadata": {
        "colab": {
          "base_uri": "https://localhost:8080/"
        },
        "id": "haPfwAOFXkYB",
        "outputId": "b8185049-5e5b-453f-f620-a5021750d6a7"
      },
      "execution_count": 157,
      "outputs": [
        {
          "output_type": "stream",
          "name": "stdout",
          "text": [
            "[[8 5 8]\n",
            " [1 5 3]\n",
            " [8 8 3]]\n",
            "3\n",
            "[1 0 1]\n",
            "[1 0 2]\n"
          ]
        }
      ]
    },
    {
      "cell_type": "code",
      "source": [
        "print(a2)\n",
        "print(np.argmax(a2))\n",
        "print(np.argmax(a2, axis=0))\n",
        "print(np.argmax(a2, axis=1))"
      ],
      "metadata": {
        "colab": {
          "base_uri": "https://localhost:8080/"
        },
        "id": "CTF5XZVnXm4O",
        "outputId": "e895765c-af99-4cba-b573-19513dbd5f35"
      },
      "execution_count": 158,
      "outputs": [
        {
          "output_type": "stream",
          "name": "stdout",
          "text": [
            "[[8 5 8]\n",
            " [1 5 3]\n",
            " [8 8 3]]\n",
            "0\n",
            "[0 2 0]\n",
            "[0 1 0]\n"
          ]
        }
      ]
    },
    {
      "cell_type": "code",
      "source": [
        "print(a2)\n",
        "print(np.median(a2))\n",
        "print(np.median(a2, axis=0))\n",
        "print(np.median(a2, axis=1))"
      ],
      "metadata": {
        "colab": {
          "base_uri": "https://localhost:8080/"
        },
        "id": "Lk2o7rg0XpFm",
        "outputId": "4842f5c8-7b6b-42ef-9a5e-7be20588d481"
      },
      "execution_count": 159,
      "outputs": [
        {
          "output_type": "stream",
          "name": "stdout",
          "text": [
            "[[8 5 8]\n",
            " [1 5 3]\n",
            " [8 8 3]]\n",
            "5.0\n",
            "[8. 5. 3.]\n",
            "[8. 3. 8.]\n"
          ]
        }
      ]
    },
    {
      "cell_type": "code",
      "source": [
        "a1 = np.array([0, 1, 2, 3])\n",
        "print(a1)\n",
        "print(np.percentile(a1, [0, 20, 40, 60, 80, 100], interpolation='linear'))\n",
        "print(np.percentile(a1, [0, 20, 40, 60, 80, 100], interpolation='higher'))\n",
        "print(np.percentile(a1, [0, 20, 40, 60, 80, 100], interpolation='lower'))\n",
        "print(np.percentile(a1, [0, 20, 40, 60, 80, 100], interpolation='nearest'))\n",
        "print(np.percentile(a1, [0, 20, 40, 60, 80, 100], interpolation='midpoint'))"
      ],
      "metadata": {
        "colab": {
          "base_uri": "https://localhost:8080/"
        },
        "id": "bkE8MIUFXrlc",
        "outputId": "86811a6d-668b-4832-e603-107ec191e2db"
      },
      "execution_count": 161,
      "outputs": [
        {
          "output_type": "stream",
          "name": "stdout",
          "text": [
            "[0 1 2 3]\n",
            "[0.  0.6 1.2 1.8 2.4 3. ]\n",
            "[0 1 2 2 3 3]\n",
            "[0 0 1 1 2 3]\n",
            "[0 1 1 2 2 3]\n",
            "[0.  0.5 1.5 1.5 2.5 3. ]\n"
          ]
        }
      ]
    },
    {
      "cell_type": "code",
      "source": [
        "a2 = np.array([[False, False, False], \n",
        "               [False, True, True],\n",
        "               [False, True, True]])\n",
        "print(a2)\n",
        "print(np.any(a2))\n",
        "print(np.any(a2, axis=0))\n",
        "print(np.any(a2, axis=1))"
      ],
      "metadata": {
        "colab": {
          "base_uri": "https://localhost:8080/"
        },
        "id": "m5WC43QJYf1p",
        "outputId": "96a72ed2-1a3b-4309-ca96-608f6b57a610"
      },
      "execution_count": 162,
      "outputs": [
        {
          "output_type": "stream",
          "name": "stdout",
          "text": [
            "[[False False False]\n",
            " [False  True  True]\n",
            " [False  True  True]]\n",
            "True\n",
            "[False  True  True]\n",
            "[False  True  True]\n"
          ]
        }
      ]
    },
    {
      "cell_type": "code",
      "source": [
        "a2 = np.array([[False, False, True], \n",
        "               [True, True, True],\n",
        "               [False, True, True]])\n",
        "print(a2)\n",
        "print(np.all(a2))\n",
        "print(np.all(a2, axis=0))\n",
        "print(np.all(a2, axis=1))"
      ],
      "metadata": {
        "colab": {
          "base_uri": "https://localhost:8080/"
        },
        "id": "Vf24r9ILZElb",
        "outputId": "3a5d178b-0f30-4f82-a820-c4a2c0035f4d"
      },
      "execution_count": 164,
      "outputs": [
        {
          "output_type": "stream",
          "name": "stdout",
          "text": [
            "[[False False  True]\n",
            " [ True  True  True]\n",
            " [False  True  True]]\n",
            "False\n",
            "[False False  True]\n",
            "[False  True False]\n"
          ]
        }
      ]
    },
    {
      "cell_type": "markdown",
      "source": [
        "## 비교 연산"
      ],
      "metadata": {
        "id": "sinbl56rZMHO"
      }
    },
    {
      "cell_type": "code",
      "source": [
        "a1 = np.arange(1, 10)\n",
        "print(a1)\n",
        "print(a1 == 5)\n",
        "print(a1 != 5)\n",
        "print (a1 < 5)\n",
        "print(a1 >= 5)"
      ],
      "metadata": {
        "colab": {
          "base_uri": "https://localhost:8080/"
        },
        "id": "ykoOCCIdZNiV",
        "outputId": "5203bf1e-8c84-450d-92b7-b47344bc399d"
      },
      "execution_count": 168,
      "outputs": [
        {
          "output_type": "stream",
          "name": "stdout",
          "text": [
            "[1 2 3 4 5 6 7 8 9]\n",
            "[False False False False  True False False False False]\n",
            "[ True  True  True  True False  True  True  True  True]\n",
            "[ True  True  True  True False False False False False]\n",
            "[False False False False  True  True  True  True  True]\n"
          ]
        }
      ]
    },
    {
      "cell_type": "code",
      "source": [
        "a1 = np.array([1, 2, 3, 4, 5])\n",
        "print(a1)\n",
        "b1 = np.array([1, 2, 3, 3, 4])\n",
        "print(b1)\n",
        "print(np.isclose(a1, b1))"
      ],
      "metadata": {
        "colab": {
          "base_uri": "https://localhost:8080/",
          "height": 284
        },
        "id": "CP8kAG9rmjcT",
        "outputId": "d02edafc-0c31-48d2-a0fb-f7d38a5e7fdc"
      },
      "execution_count": 169,
      "outputs": [
        {
          "output_type": "stream",
          "name": "stdout",
          "text": [
            "[1 2 3 4 5]\n",
            "[1 2 3 3 4]\n"
          ]
        },
        {
          "output_type": "error",
          "ename": "TypeError",
          "evalue": "ignored",
          "traceback": [
            "\u001b[0;31m---------------------------------------------------------------------------\u001b[0m",
            "\u001b[0;31mTypeError\u001b[0m                                 Traceback (most recent call last)",
            "\u001b[0;32m<ipython-input-169-d67300240d33>\u001b[0m in \u001b[0;36m<module>\u001b[0;34m\u001b[0m\n\u001b[1;32m      3\u001b[0m \u001b[0mb1\u001b[0m \u001b[0;34m=\u001b[0m \u001b[0mnp\u001b[0m\u001b[0;34m.\u001b[0m\u001b[0marray\u001b[0m\u001b[0;34m(\u001b[0m\u001b[0;34m[\u001b[0m\u001b[0;36m1\u001b[0m\u001b[0;34m,\u001b[0m \u001b[0;36m2\u001b[0m\u001b[0;34m,\u001b[0m \u001b[0;36m3\u001b[0m\u001b[0;34m,\u001b[0m \u001b[0;36m3\u001b[0m\u001b[0;34m,\u001b[0m \u001b[0;36m4\u001b[0m\u001b[0;34m]\u001b[0m\u001b[0;34m)\u001b[0m\u001b[0;34m\u001b[0m\u001b[0;34m\u001b[0m\u001b[0m\n\u001b[1;32m      4\u001b[0m \u001b[0mprint\u001b[0m\u001b[0;34m(\u001b[0m\u001b[0mb1\u001b[0m\u001b[0;34m)\u001b[0m\u001b[0;34m\u001b[0m\u001b[0;34m\u001b[0m\u001b[0m\n\u001b[0;32m----> 5\u001b[0;31m \u001b[0mprint\u001b[0m\u001b[0;34m(\u001b[0m\u001b[0mnp\u001b[0m\u001b[0;34m.\u001b[0m\u001b[0misclose\u001b[0m\u001b[0;34m(\u001b[0m\u001b[0ma1\u001b[0m\u001b[0;34m)\u001b[0m\u001b[0;34m)\u001b[0m\u001b[0;34m\u001b[0m\u001b[0;34m\u001b[0m\u001b[0m\n\u001b[0m",
            "\u001b[0;32m<__array_function__ internals>\u001b[0m in \u001b[0;36misclose\u001b[0;34m(*args, **kwargs)\u001b[0m\n",
            "\u001b[0;31mTypeError\u001b[0m: _isclose_dispatcher() missing 1 required positional argument: 'b'"
          ]
        }
      ]
    },
    {
      "cell_type": "code",
      "source": [
        "a1 = np.array([np.nan, 2, np.inf, 4, np.NINF])\n",
        "print(a1)\n",
        "print(np.isnan(a1))\n",
        "print(np.isinf(a1))\n",
        "print(np.isfinite(a1))"
      ],
      "metadata": {
        "colab": {
          "base_uri": "https://localhost:8080/"
        },
        "id": "hCcTXVjXoKt-",
        "outputId": "fb74dd5a-0e7e-44fd-abac-c0f4a3e685a8"
      },
      "execution_count": 171,
      "outputs": [
        {
          "output_type": "stream",
          "name": "stdout",
          "text": [
            "[ nan   2.  inf   4. -inf]\n",
            "[ True False False False False]\n",
            "[False False  True False  True]\n"
          ]
        }
      ]
    },
    {
      "cell_type": "markdown",
      "source": [
        "## 불리언 연산자"
      ],
      "metadata": {
        "id": "3px-Zk_hpHGC"
      }
    },
    {
      "cell_type": "code",
      "source": [
        "a2 = np.arange(1, 10).reshape(3, 3)\n",
        "print(a2)\n",
        "\n",
        "print((a2 > 5) & (a2 < 8))\n",
        "print(a2[(a2 > 5)] & (a2 < 8))\n",
        "\n",
        "print((a2 > 5) | (a2 < 8))\n",
        "print(a2[(a2 > 5)] | (a2 < 8))\n",
        "\n",
        "print((a2 > 5) ^ (a2 < 8))\n",
        "print(a2[(a2 > 5)] ^ (a2 < 8))\n",
        "\n",
        "print(~(a2 > 5))\n",
        "print(a2[~(a2 > 5)])"
      ],
      "metadata": {
        "colab": {
          "base_uri": "https://localhost:8080/"
        },
        "id": "eTnKSn4QpIWu",
        "outputId": "005db256-123a-4420-ffff-98b410ab1d62"
      },
      "execution_count": 172,
      "outputs": [
        {
          "output_type": "stream",
          "name": "stdout",
          "text": [
            "[[1 2 3]\n",
            " [4 5 6]\n",
            " [7 8 9]]\n",
            "[[False  True  True]\n",
            " [ True  True  True]\n",
            " [ True  True  True]]\n"
          ]
        }
      ]
    },
    {
      "cell_type": "markdown",
      "source": [
        "## 배열 정렬"
      ],
      "metadata": {
        "id": "WthXQldowc0W"
      }
    },
    {
      "cell_type": "code",
      "source": [
        "a1 = np.random.randint(1, 10, size=10)\n",
        "print(a1)\n",
        "print(np.sort(a1))\n",
        "print(a1)\n",
        "print(np.argsort(a1))\n",
        "print(a1)\n",
        "print(a1.sort())\n",
        "print(a1)"
      ],
      "metadata": {
        "colab": {
          "base_uri": "https://localhost:8080/"
        },
        "id": "ijrEN48gwd6n",
        "outputId": "2607bea9-4b15-46c1-f229-cba59769f4b9"
      },
      "execution_count": 175,
      "outputs": [
        {
          "output_type": "stream",
          "name": "stdout",
          "text": [
            "[9 7 6 3 3 5 4 4 8 8]\n",
            "[3 3 4 4 5 6 7 8 8 9]\n",
            "[9 7 6 3 3 5 4 4 8 8]\n",
            "[3 4 6 7 5 2 1 8 9 0]\n",
            "[9 7 6 3 3 5 4 4 8 8]\n",
            "None\n",
            "[3 3 4 4 5 6 7 8 8 9]\n"
          ]
        }
      ]
    },
    {
      "cell_type": "code",
      "source": [
        "a2 = np.random.randint(1, 10, size=(3, 3))\n",
        "print(a2)\n",
        "print(np.sort(a2, axis=0))\n",
        "print(np.sort(a2, axis=1))"
      ],
      "metadata": {
        "colab": {
          "base_uri": "https://localhost:8080/"
        },
        "id": "8gdy0B_LwteP",
        "outputId": "ff05756c-6522-445d-b320-a2723f4b40f9"
      },
      "execution_count": 177,
      "outputs": [
        {
          "output_type": "stream",
          "name": "stdout",
          "text": [
            "[[1 6 2]\n",
            " [9 1 8]\n",
            " [8 7 1]]\n",
            "[[1 1 1]\n",
            " [8 6 2]\n",
            " [9 7 8]]\n",
            "[[1 2 6]\n",
            " [1 8 9]\n",
            " [1 7 8]]\n"
          ]
        }
      ]
    },
    {
      "cell_type": "markdown",
      "source": [
        "## 부분 정렬\n",
        "- partition(): 배열에서 k개의 작은 값을 반환"
      ],
      "metadata": {
        "id": "J8KtbvGWw9LB"
      }
    },
    {
      "cell_type": "code",
      "source": [
        "a1 = np.random.randint(1, 10, size=10)\n",
        "print(a1)\n",
        "print(np.partition(a1, 3)) # 제일 작은 값 3개개"
      ],
      "metadata": {
        "colab": {
          "base_uri": "https://localhost:8080/"
        },
        "id": "leYkttI3w7em",
        "outputId": "20d86c10-7950-4692-b35b-30b824ec7e42"
      },
      "execution_count": 178,
      "outputs": [
        {
          "output_type": "stream",
          "name": "stdout",
          "text": [
            "[9 2 4 8 6 7 4 6 7 3]\n",
            "[3 2 4 4 6 6 7 8 7 9]\n"
          ]
        }
      ]
    },
    {
      "cell_type": "code",
      "source": [
        "a2 = np.random.randint(1, 10, size=(5, 5))\n",
        "print(a2)\n",
        "print(np.partition(a2, 3))\n",
        "print(np.partition(a2, 3, axis=0))\n",
        "print(np.partition(a2, 3, axis=1))"
      ],
      "metadata": {
        "colab": {
          "base_uri": "https://localhost:8080/"
        },
        "id": "jhVbop4ExIs-",
        "outputId": "897dc6eb-3b58-420e-c612-ea565afbb24b"
      },
      "execution_count": 180,
      "outputs": [
        {
          "output_type": "stream",
          "name": "stdout",
          "text": [
            "[[1 2 3 8 1]\n",
            " [5 2 6 3 2]\n",
            " [9 7 9 5 2]\n",
            " [8 4 6 8 9]\n",
            " [9 3 3 6 6]]\n",
            "[[1 1 2 3 8]\n",
            " [3 2 2 5 6]\n",
            " [5 2 7 9 9]\n",
            " [4 6 8 8 9]\n",
            " [3 3 6 6 9]]\n",
            "[[8 2 3 3 1]\n",
            " [1 2 3 5 2]\n",
            " [5 3 6 6 2]\n",
            " [9 4 6 8 6]\n",
            " [9 7 9 8 9]]\n",
            "[[1 1 2 3 8]\n",
            " [3 2 2 5 6]\n",
            " [5 2 7 9 9]\n",
            " [4 6 8 8 9]\n",
            " [3 3 6 6 9]]\n"
          ]
        }
      ]
    },
    {
      "cell_type": "markdown",
      "source": [
        "## 배열 입출력"
      ],
      "metadata": {
        "id": "IRkNHi0Hx7as"
      }
    },
    {
      "cell_type": "code",
      "source": [
        "a2 = np.random.randint(1, 10, size=(5, 5))\n",
        "print(a2)\n",
        "np.save(\"a\", a2)"
      ],
      "metadata": {
        "colab": {
          "base_uri": "https://localhost:8080/"
        },
        "id": "MFco4rfNx8qE",
        "outputId": "17ca912b-3ea0-45e6-a7d1-f146722ddac7"
      },
      "execution_count": 182,
      "outputs": [
        {
          "output_type": "stream",
          "name": "stdout",
          "text": [
            "[[1 7 8 9 5]\n",
            " [9 2 2 4 8]\n",
            " [5 7 8 2 1]\n",
            " [9 6 8 8 6]\n",
            " [3 6 7 9 2]]\n"
          ]
        }
      ]
    },
    {
      "cell_type": "code",
      "source": [
        "b2 = np.random.randint(1, 10, size=(5, 5))\n",
        "print(b2)\n",
        "np.savez(\"ab\", a2, b2) # z를 붙이면 여러 배열을 한 번에 묶을 수 있다다"
      ],
      "metadata": {
        "colab": {
          "base_uri": "https://localhost:8080/"
        },
        "id": "JPyseMomyIkX",
        "outputId": "1f0d0eec-6450-443d-9984-65732c6cc603"
      },
      "execution_count": 186,
      "outputs": [
        {
          "output_type": "stream",
          "name": "stdout",
          "text": [
            "[[9 4 2 5 5]\n",
            " [9 6 5 7 4]\n",
            " [5 5 3 5 7]\n",
            " [1 7 3 4 6]\n",
            " [4 3 3 9 3]]\n"
          ]
        }
      ]
    },
    {
      "cell_type": "code",
      "source": [
        "!ls"
      ],
      "metadata": {
        "colab": {
          "base_uri": "https://localhost:8080/"
        },
        "id": "MB3Tv7epyZ7p",
        "outputId": "27005cbc-e593-4f89-ac7c-d970474ccdeb"
      },
      "execution_count": 188,
      "outputs": [
        {
          "output_type": "stream",
          "name": "stdout",
          "text": [
            "ab.npz\ta.npy  sample_data\n"
          ]
        }
      ]
    },
    {
      "cell_type": "code",
      "source": [
        "npy = np.load(\"a.npy\")\n",
        "print(npy)"
      ],
      "metadata": {
        "colab": {
          "base_uri": "https://localhost:8080/"
        },
        "id": "XrgQ_UK6ygN8",
        "outputId": "ce7333a1-df32-4905-e53a-746e91fc129e"
      },
      "execution_count": 189,
      "outputs": [
        {
          "output_type": "stream",
          "name": "stdout",
          "text": [
            "[[1 7 8 9 5]\n",
            " [9 2 2 4 8]\n",
            " [5 7 8 2 1]\n",
            " [9 6 8 8 6]\n",
            " [3 6 7 9 2]]\n"
          ]
        }
      ]
    },
    {
      "cell_type": "code",
      "source": [
        "npz = np.load(\"ab.npz\")\n",
        "print(npz)\n",
        "print(npz.files)\n",
        "print(npz[\"arr_0\"], '\\n\\n', npz[\"arr_1\"])"
      ],
      "metadata": {
        "colab": {
          "base_uri": "https://localhost:8080/"
        },
        "id": "r2P8QINSyjmr",
        "outputId": "d45d77f9-b1bd-44db-ee4e-f08802f4c004"
      },
      "execution_count": 193,
      "outputs": [
        {
          "output_type": "stream",
          "name": "stdout",
          "text": [
            "<numpy.lib.npyio.NpzFile object at 0x7fe091839d60>\n",
            "['arr_0', 'arr_1']\n",
            "[[1 7 8 9 5]\n",
            " [9 2 2 4 8]\n",
            " [5 7 8 2 1]\n",
            " [9 6 8 8 6]\n",
            " [3 6 7 9 2]] \n",
            "\n",
            " [[9 4 2 5 5]\n",
            " [9 6 5 7 4]\n",
            " [5 5 3 5 7]\n",
            " [1 7 3 4 6]\n",
            " [4 3 3 9 3]]\n"
          ]
        }
      ]
    },
    {
      "cell_type": "code",
      "source": [
        "print(a2)\n",
        "np.savetxt(\"a.csv\", a2, delimiter=',')"
      ],
      "metadata": {
        "colab": {
          "base_uri": "https://localhost:8080/"
        },
        "id": "wal1n-NvzWBy",
        "outputId": "0be171d2-7a85-446c-ab03-43533421bed2"
      },
      "execution_count": 194,
      "outputs": [
        {
          "output_type": "stream",
          "name": "stdout",
          "text": [
            "[[1 7 8 9 5]\n",
            " [9 2 2 4 8]\n",
            " [5 7 8 2 1]\n",
            " [9 6 8 8 6]\n",
            " [3 6 7 9 2]]\n"
          ]
        }
      ]
    },
    {
      "cell_type": "code",
      "source": [
        "!ls"
      ],
      "metadata": {
        "colab": {
          "base_uri": "https://localhost:8080/"
        },
        "id": "REa6GNq_zlqD",
        "outputId": "ceadff80-dbda-455f-9695-11e8972f8085"
      },
      "execution_count": 195,
      "outputs": [
        {
          "output_type": "stream",
          "name": "stdout",
          "text": [
            "ab.npz\ta.csv  a.npy  sample_data\n"
          ]
        }
      ]
    },
    {
      "cell_type": "code",
      "source": [
        "!cat a.csv"
      ],
      "metadata": {
        "colab": {
          "base_uri": "https://localhost:8080/"
        },
        "id": "uDQspzgIzm9n",
        "outputId": "d656b62e-6a72-44a4-95a0-0f76213a3079"
      },
      "execution_count": 198,
      "outputs": [
        {
          "output_type": "stream",
          "name": "stdout",
          "text": [
            "1.000000000000000000e+00,7.000000000000000000e+00,8.000000000000000000e+00,9.000000000000000000e+00,5.000000000000000000e+00\n",
            "9.000000000000000000e+00,2.000000000000000000e+00,2.000000000000000000e+00,4.000000000000000000e+00,8.000000000000000000e+00\n",
            "5.000000000000000000e+00,7.000000000000000000e+00,8.000000000000000000e+00,2.000000000000000000e+00,1.000000000000000000e+00\n",
            "9.000000000000000000e+00,6.000000000000000000e+00,8.000000000000000000e+00,8.000000000000000000e+00,6.000000000000000000e+00\n",
            "3.000000000000000000e+00,6.000000000000000000e+00,7.000000000000000000e+00,9.000000000000000000e+00,2.000000000000000000e+00\n"
          ]
        }
      ]
    },
    {
      "cell_type": "code",
      "source": [
        "csv = np.loadtxt(\"a.csv\", delimiter=',') # delimiter은 구분자임\n",
        "print(csv)"
      ],
      "metadata": {
        "colab": {
          "base_uri": "https://localhost:8080/"
        },
        "id": "SIFTGHCRzxcm",
        "outputId": "4b9781af-35f2-445b-c7d6-45c4dc536f61"
      },
      "execution_count": 199,
      "outputs": [
        {
          "output_type": "stream",
          "name": "stdout",
          "text": [
            "[[1. 7. 8. 9. 5.]\n",
            " [9. 2. 2. 4. 8.]\n",
            " [5. 7. 8. 2. 1.]\n",
            " [9. 6. 8. 8. 6.]\n",
            " [3. 6. 7. 9. 2.]]\n"
          ]
        }
      ]
    },
    {
      "cell_type": "code",
      "source": [
        "print(b2)\n",
        "np.savetxt(\"b.csv\", b2, delimiter=',', fmt='%.2e', header='c1, c2, c3, c4, c5')"
      ],
      "metadata": {
        "colab": {
          "base_uri": "https://localhost:8080/"
        },
        "id": "0YMtqFrAz-MY",
        "outputId": "3215f7b7-3c9c-4d89-cc7a-0a212aad2ce8"
      },
      "execution_count": 201,
      "outputs": [
        {
          "output_type": "stream",
          "name": "stdout",
          "text": [
            "[[9 4 2 5 5]\n",
            " [9 6 5 7 4]\n",
            " [5 5 3 5 7]\n",
            " [1 7 3 4 6]\n",
            " [4 3 3 9 3]]\n"
          ]
        }
      ]
    },
    {
      "cell_type": "code",
      "source": [
        "!cat b.csv"
      ],
      "metadata": {
        "colab": {
          "base_uri": "https://localhost:8080/"
        },
        "id": "oPxg8VT60OO2",
        "outputId": "75ebe7e3-79b1-4f9c-90ce-973693b496e2"
      },
      "execution_count": 202,
      "outputs": [
        {
          "output_type": "stream",
          "name": "stdout",
          "text": [
            "# c1, c2, c3, c4, c5\n",
            "9.00e+00,4.00e+00,2.00e+00,5.00e+00,5.00e+00\n",
            "9.00e+00,6.00e+00,5.00e+00,7.00e+00,4.00e+00\n",
            "5.00e+00,5.00e+00,3.00e+00,5.00e+00,7.00e+00\n",
            "1.00e+00,7.00e+00,3.00e+00,4.00e+00,6.00e+00\n",
            "4.00e+00,3.00e+00,3.00e+00,9.00e+00,3.00e+00\n"
          ]
        }
      ]
    },
    {
      "cell_type": "code",
      "source": [
        "csv = np.loadtxt(\"b.csv\", delimiter=\",\")\n",
        "print(csv)"
      ],
      "metadata": {
        "colab": {
          "base_uri": "https://localhost:8080/"
        },
        "id": "1IU7FMq-0SIh",
        "outputId": "a3c2e9e6-7531-470c-cae6-25ad9640c027"
      },
      "execution_count": 203,
      "outputs": [
        {
          "output_type": "stream",
          "name": "stdout",
          "text": [
            "[[9. 4. 2. 5. 5.]\n",
            " [9. 6. 5. 7. 4.]\n",
            " [5. 5. 3. 5. 7.]\n",
            " [1. 7. 3. 4. 6.]\n",
            " [4. 3. 3. 9. 3.]]\n"
          ]
        }
      ]
    }
  ]
}